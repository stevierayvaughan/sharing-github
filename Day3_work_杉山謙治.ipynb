{
 "cells": [
  {
   "cell_type": "markdown",
   "metadata": {},
   "source": [
    "#### 現場で使える機械学習 講座課題 - Car Fuel Consumption\n",
    "\n",
    "- 問題設定 : 100kmあたりのガソリン消費量(consume)を予測"
   ]
  },
  {
   "cell_type": "code",
   "execution_count": 1,
   "metadata": {
    "scrolled": true
   },
   "outputs": [],
   "source": [
    "%matplotlib inline\n",
    "import pandas as pd\n",
    "import numpy as np\n",
    "import seaborn as sns\n",
    "import matplotlib as mpl\n",
    "import matplotlib.pyplot as plt\n",
    "from sklearn.linear_model import LinearRegression\n",
    "from sklearn.metrics import mean_squared_error, mean_absolute_error # 回帰問題における性能評価に関する関数\n",
    "from sklearn.metrics import r2_score\n",
    "\n",
    "# セルの表示行数を500行に拡張する\n",
    "#pd.set_option(\"display.max_rows\", 500)"
   ]
  },
  {
   "cell_type": "code",
   "execution_count": 2,
   "metadata": {},
   "outputs": [
    {
     "data": {
      "application/javascript": [
       "IPython.OutputArea.auto_scroll_threshold = 9999;\n"
      ],
      "text/plain": [
       "<IPython.core.display.Javascript object>"
      ]
     },
     "metadata": {},
     "output_type": "display_data"
    }
   ],
   "source": [
    "%%javascript\n",
    "IPython.OutputArea.auto_scroll_threshold = 9999;"
   ]
  },
  {
   "cell_type": "markdown",
   "metadata": {},
   "source": [
    "#### 1. [Day1] データの読み込み\n",
    "\n",
    "##### 1.1. [Day1] 入力ファイルとなるCSVのデータ\n",
    "|カラム名|内容|変数の種別|\n",
    "|---|---|---|\n",
    "|distance|走行距離(Km)|量的変数|\n",
    "|consume|100kmあたりのガソリン消費量(L/100km)|量的変数|\n",
    "|speed|平均速度(km/h)|量的変数|\n",
    "|temp_inside|車内の気温(${}^\\circ$C)|量的変数|\n",
    "|temp_outside|外気温(${}^\\circ$C)|量的変数|\n",
    "|specials|特記事項 : 雨(rain/half rain half sun)，雪(snow)，エアコンの使用(AC)，出発時に車体が温かく感じるほどの晴れ(sun)|質的変数|\n",
    "|gas_type|使用ガソリンの種別 : SP98(\"Super plus\")，E10(\"super\" gas with 10% Alcohol)|質的変数|\n",
    "|AC|エアコン使用の有無(0:False, 1:True)|質的変数|\n",
    "|rain|雨もしくは雪(0:False, 1:True)|質的変数|\n",
    "|sun|出発時に車体が温かく感じるほどの晴れ(0:False, 1:True)|質的変数|\n",
    "|refill liters|給油時のガソリン量(L)|量的変数|\n",
    "|refill gas|給油時のガソリンの種別 : SP98(\"Super plus\")，E10(\"super\" gas with 10% Alcohol)|質的変数|\n",
    "\n",
    "##### 1.2. [Day1] データの内容に対する考察\n",
    "* 質的変数(specials)とダミー変数(AC, rain, sun)の関係が成り立つため specials は取り込まない\n",
    "* rainとsunは「それ以外の天気」をカラムとして加えればone-hotエンコーディングの関係が成り立つ\n",
    "* refill gas については、欠損値を補間した場合、データが gas_type と全件同一となるため取り込まない\n",
    "* 問題設定より説明変数として使用することがないと判断し refill liters は取り込まない\n",
    "* 質的変数(SP98, E10)はダミー変数(0, 1)に変換する方が特徴量を解析しやすい"
   ]
  },
  {
   "cell_type": "code",
   "execution_count": 3,
   "metadata": {
    "scrolled": false
   },
   "outputs": [
    {
     "name": "stdout",
     "output_type": "stream",
     "text": [
      "<class 'pandas.core.frame.DataFrame'>\n",
      "RangeIndex: 388 entries, 0 to 387\n",
      "Data columns (total 9 columns):\n",
      "distance        388 non-null float64\n",
      "consume         388 non-null float64\n",
      "speed           388 non-null int64\n",
      "temp_inside     376 non-null float64\n",
      "temp_outside    388 non-null int64\n",
      "gas_type        388 non-null int64\n",
      "AC              388 non-null int64\n",
      "rain            388 non-null int64\n",
      "sun             388 non-null int64\n",
      "dtypes: float64(3), int64(6)\n",
      "memory usage: 27.4 KB\n"
     ]
    }
   ],
   "source": [
    "# 提供者コメントのとおりデータの小数点記号がドイツ等で利用されるカンマであるため，read_csv時にdecimalオプションで小数点として認識させる\n",
    "# replaceを使用して質的変数(SP98, E10)はダミー変数(1, 0)に変換する\n",
    "df_consume = pd.read_csv(\"../1_data/measurements.csv\", decimal=\",\")[['distance', 'consume', 'speed',\n",
    "                                                                     'temp_inside', 'temp_outside',\n",
    "                                                                     'gas_type', 'AC', 'rain', 'sun']].replace({'SP98': 0, 'E10': 1})\n",
    "\n",
    "# 取り込んだデータの欠損値の有無を確認\n",
    "df_consume.info()"
   ]
  },
  {
   "cell_type": "markdown",
   "metadata": {},
   "source": [
    "#### 2. [Day1] データに対する前処理\n",
    "* 欠損値の補間\n",
    "* メモリ使用量低減のための型変換"
   ]
  },
  {
   "cell_type": "code",
   "execution_count": 4,
   "metadata": {
    "scrolled": false
   },
   "outputs": [
    {
     "name": "stdout",
     "output_type": "stream",
     "text": [
      "<class 'pandas.core.frame.DataFrame'>\n",
      "RangeIndex: 388 entries, 0 to 387\n",
      "Data columns (total 9 columns):\n",
      "distance        388 non-null float64\n",
      "consume         388 non-null float64\n",
      "speed           388 non-null int64\n",
      "temp_inside     388 non-null float64\n",
      "temp_outside    388 non-null int64\n",
      "gas_type        388 non-null int8\n",
      "AC              388 non-null int8\n",
      "rain            388 non-null int8\n",
      "sun             388 non-null int8\n",
      "dtypes: float64(3), int64(2), int8(4)\n",
      "memory usage: 16.8 KB\n"
     ]
    },
    {
     "data": {
      "text/html": [
       "<div>\n",
       "<style scoped>\n",
       "    .dataframe tbody tr th:only-of-type {\n",
       "        vertical-align: middle;\n",
       "    }\n",
       "\n",
       "    .dataframe tbody tr th {\n",
       "        vertical-align: top;\n",
       "    }\n",
       "\n",
       "    .dataframe thead th {\n",
       "        text-align: right;\n",
       "    }\n",
       "</style>\n",
       "<table border=\"1\" class=\"dataframe\">\n",
       "  <thead>\n",
       "    <tr style=\"text-align: right;\">\n",
       "      <th></th>\n",
       "      <th>distance</th>\n",
       "      <th>consume</th>\n",
       "      <th>speed</th>\n",
       "      <th>temp_inside</th>\n",
       "      <th>temp_outside</th>\n",
       "      <th>gas_type</th>\n",
       "      <th>AC</th>\n",
       "      <th>rain</th>\n",
       "      <th>sun</th>\n",
       "    </tr>\n",
       "  </thead>\n",
       "  <tbody>\n",
       "    <tr>\n",
       "      <th>0</th>\n",
       "      <td>28.0</td>\n",
       "      <td>5.0</td>\n",
       "      <td>26</td>\n",
       "      <td>21.5</td>\n",
       "      <td>12</td>\n",
       "      <td>1</td>\n",
       "      <td>0</td>\n",
       "      <td>0</td>\n",
       "      <td>0</td>\n",
       "    </tr>\n",
       "    <tr>\n",
       "      <th>1</th>\n",
       "      <td>12.0</td>\n",
       "      <td>4.2</td>\n",
       "      <td>30</td>\n",
       "      <td>21.5</td>\n",
       "      <td>13</td>\n",
       "      <td>1</td>\n",
       "      <td>0</td>\n",
       "      <td>0</td>\n",
       "      <td>0</td>\n",
       "    </tr>\n",
       "    <tr>\n",
       "      <th>2</th>\n",
       "      <td>11.2</td>\n",
       "      <td>5.5</td>\n",
       "      <td>38</td>\n",
       "      <td>21.5</td>\n",
       "      <td>15</td>\n",
       "      <td>1</td>\n",
       "      <td>0</td>\n",
       "      <td>0</td>\n",
       "      <td>0</td>\n",
       "    </tr>\n",
       "    <tr>\n",
       "      <th>3</th>\n",
       "      <td>12.9</td>\n",
       "      <td>3.9</td>\n",
       "      <td>36</td>\n",
       "      <td>21.5</td>\n",
       "      <td>14</td>\n",
       "      <td>1</td>\n",
       "      <td>0</td>\n",
       "      <td>0</td>\n",
       "      <td>0</td>\n",
       "    </tr>\n",
       "    <tr>\n",
       "      <th>4</th>\n",
       "      <td>18.5</td>\n",
       "      <td>4.5</td>\n",
       "      <td>46</td>\n",
       "      <td>21.5</td>\n",
       "      <td>15</td>\n",
       "      <td>1</td>\n",
       "      <td>0</td>\n",
       "      <td>0</td>\n",
       "      <td>0</td>\n",
       "    </tr>\n",
       "  </tbody>\n",
       "</table>\n",
       "</div>"
      ],
      "text/plain": [
       "   distance  consume  speed  temp_inside  temp_outside  gas_type  AC  rain  \\\n",
       "0      28.0      5.0     26         21.5            12         1   0     0   \n",
       "1      12.0      4.2     30         21.5            13         1   0     0   \n",
       "2      11.2      5.5     38         21.5            15         1   0     0   \n",
       "3      12.9      3.9     36         21.5            14         1   0     0   \n",
       "4      18.5      4.5     46         21.5            15         1   0     0   \n",
       "\n",
       "   sun  \n",
       "0    0  \n",
       "1    0  \n",
       "2    0  \n",
       "3    0  \n",
       "4    0  "
      ]
     },
     "metadata": {},
     "output_type": "display_data"
    }
   ],
   "source": [
    "# 上記infoにて判明したtemp_insideの欠損値を欠損の直前値で補間する\n",
    "df_consume['temp_inside'] = df_consume['temp_inside'].fillna(method = 'ffill')\n",
    "\n",
    "# メモリ使用量低減のために0と1しか使用しない質的変数のカラム属性をint8に変換する\n",
    "df_consume['gas_type'] = df_consume['gas_type'].astype(np.int8)\n",
    "df_consume['AC'] = df_consume['AC'].astype(np.int8)\n",
    "df_consume['rain'] = df_consume['rain'].astype(np.int8)\n",
    "df_consume['sun'] = df_consume['sun'].astype(np.int8)\n",
    "\n",
    "# 欠損値補間とデータ型変更が適用されたことを確認\n",
    "df_consume.info()\n",
    "\n",
    "# 取り込んだデータを見る\n",
    "display(df_consume.head())"
   ]
  },
  {
   "cell_type": "markdown",
   "metadata": {},
   "source": [
    "#### 3. [Day1] データの特徴を分析する\n",
    "##### 3.1. [Day1] 要約統計量の出力"
   ]
  },
  {
   "cell_type": "code",
   "execution_count": 5,
   "metadata": {},
   "outputs": [
    {
     "data": {
      "text/html": [
       "<div>\n",
       "<style scoped>\n",
       "    .dataframe tbody tr th:only-of-type {\n",
       "        vertical-align: middle;\n",
       "    }\n",
       "\n",
       "    .dataframe tbody tr th {\n",
       "        vertical-align: top;\n",
       "    }\n",
       "\n",
       "    .dataframe thead th {\n",
       "        text-align: right;\n",
       "    }\n",
       "</style>\n",
       "<table border=\"1\" class=\"dataframe\">\n",
       "  <thead>\n",
       "    <tr style=\"text-align: right;\">\n",
       "      <th></th>\n",
       "      <th>count</th>\n",
       "      <th>mean</th>\n",
       "      <th>std</th>\n",
       "      <th>min</th>\n",
       "      <th>25%</th>\n",
       "      <th>50%</th>\n",
       "      <th>75%</th>\n",
       "      <th>max</th>\n",
       "    </tr>\n",
       "  </thead>\n",
       "  <tbody>\n",
       "    <tr>\n",
       "      <th>distance</th>\n",
       "      <td>388.0</td>\n",
       "      <td>19.652835</td>\n",
       "      <td>22.667837</td>\n",
       "      <td>1.3</td>\n",
       "      <td>11.80</td>\n",
       "      <td>14.6</td>\n",
       "      <td>19.0</td>\n",
       "      <td>216.1</td>\n",
       "    </tr>\n",
       "    <tr>\n",
       "      <th>consume</th>\n",
       "      <td>388.0</td>\n",
       "      <td>4.912371</td>\n",
       "      <td>1.033172</td>\n",
       "      <td>3.3</td>\n",
       "      <td>4.30</td>\n",
       "      <td>4.7</td>\n",
       "      <td>5.3</td>\n",
       "      <td>12.2</td>\n",
       "    </tr>\n",
       "    <tr>\n",
       "      <th>speed</th>\n",
       "      <td>388.0</td>\n",
       "      <td>41.927835</td>\n",
       "      <td>13.598524</td>\n",
       "      <td>14.0</td>\n",
       "      <td>32.75</td>\n",
       "      <td>40.5</td>\n",
       "      <td>50.0</td>\n",
       "      <td>90.0</td>\n",
       "    </tr>\n",
       "    <tr>\n",
       "      <th>temp_inside</th>\n",
       "      <td>388.0</td>\n",
       "      <td>21.890464</td>\n",
       "      <td>1.035038</td>\n",
       "      <td>19.0</td>\n",
       "      <td>21.50</td>\n",
       "      <td>22.0</td>\n",
       "      <td>22.5</td>\n",
       "      <td>25.5</td>\n",
       "    </tr>\n",
       "    <tr>\n",
       "      <th>temp_outside</th>\n",
       "      <td>388.0</td>\n",
       "      <td>11.358247</td>\n",
       "      <td>6.991542</td>\n",
       "      <td>-5.0</td>\n",
       "      <td>7.00</td>\n",
       "      <td>10.0</td>\n",
       "      <td>16.0</td>\n",
       "      <td>31.0</td>\n",
       "    </tr>\n",
       "    <tr>\n",
       "      <th>gas_type</th>\n",
       "      <td>388.0</td>\n",
       "      <td>0.412371</td>\n",
       "      <td>0.492897</td>\n",
       "      <td>0.0</td>\n",
       "      <td>0.00</td>\n",
       "      <td>0.0</td>\n",
       "      <td>1.0</td>\n",
       "      <td>1.0</td>\n",
       "    </tr>\n",
       "    <tr>\n",
       "      <th>AC</th>\n",
       "      <td>388.0</td>\n",
       "      <td>0.077320</td>\n",
       "      <td>0.267443</td>\n",
       "      <td>0.0</td>\n",
       "      <td>0.00</td>\n",
       "      <td>0.0</td>\n",
       "      <td>0.0</td>\n",
       "      <td>1.0</td>\n",
       "    </tr>\n",
       "    <tr>\n",
       "      <th>rain</th>\n",
       "      <td>388.0</td>\n",
       "      <td>0.123711</td>\n",
       "      <td>0.329677</td>\n",
       "      <td>0.0</td>\n",
       "      <td>0.00</td>\n",
       "      <td>0.0</td>\n",
       "      <td>0.0</td>\n",
       "      <td>1.0</td>\n",
       "    </tr>\n",
       "    <tr>\n",
       "      <th>sun</th>\n",
       "      <td>388.0</td>\n",
       "      <td>0.082474</td>\n",
       "      <td>0.275441</td>\n",
       "      <td>0.0</td>\n",
       "      <td>0.00</td>\n",
       "      <td>0.0</td>\n",
       "      <td>0.0</td>\n",
       "      <td>1.0</td>\n",
       "    </tr>\n",
       "  </tbody>\n",
       "</table>\n",
       "</div>"
      ],
      "text/plain": [
       "              count       mean        std   min    25%   50%   75%    max\n",
       "distance      388.0  19.652835  22.667837   1.3  11.80  14.6  19.0  216.1\n",
       "consume       388.0   4.912371   1.033172   3.3   4.30   4.7   5.3   12.2\n",
       "speed         388.0  41.927835  13.598524  14.0  32.75  40.5  50.0   90.0\n",
       "temp_inside   388.0  21.890464   1.035038  19.0  21.50  22.0  22.5   25.5\n",
       "temp_outside  388.0  11.358247   6.991542  -5.0   7.00  10.0  16.0   31.0\n",
       "gas_type      388.0   0.412371   0.492897   0.0   0.00   0.0   1.0    1.0\n",
       "AC            388.0   0.077320   0.267443   0.0   0.00   0.0   0.0    1.0\n",
       "rain          388.0   0.123711   0.329677   0.0   0.00   0.0   0.0    1.0\n",
       "sun           388.0   0.082474   0.275441   0.0   0.00   0.0   0.0    1.0"
      ]
     },
     "execution_count": 5,
     "metadata": {},
     "output_type": "execute_result"
    }
   ],
   "source": [
    "# 要約統計量を出力する \n",
    "df_consume.describe().T"
   ]
  },
  {
   "cell_type": "markdown",
   "metadata": {},
   "source": [
    "##### 3.2. [Day1] 密度図の出力\n",
    "* 質的変数(gas_type, AC, rain, sun)と量的変数consumeとの間に相関関係があるのかを密度図で確認する\n",
    "* 質的変数と量的変数の相関関係は相関比を算出すれば定量的に判断可能であるが、相関比算出関数の実装まで至らなかった<br>\n",
    "　⇒DAY2提出時の課題としたい"
   ]
  },
  {
   "cell_type": "code",
   "execution_count": 6,
   "metadata": {},
   "outputs": [
    {
     "data": {
      "image/png": "[encoded data removed]",
      "text/plain": [
       "<Figure size 1224x216 with 4 Axes>"
      ]
     },
     "metadata": {
      "needs_background": "light"
     },
     "output_type": "display_data"
    }
   ],
   "source": [
    "# warning出力時にjupyterがインストールされているフォルダが見えてしまうので抑制する\n",
    "import warnings\n",
    "#warnings.filterwarnings('ignore', category=FutureWarning)\n",
    "warnings.filterwarnings('ignore', category=Warning)\n",
    "\n",
    "# 質的変数(gas_type, AC, rain, sun)とconsumeとの間に相関関係があるのかを密度図で見る\n",
    "fig, axes = plt.subplots(1, 4, figsize=(17, 3))\n",
    "sns.set_style(\"whitegrid\", {'axes.grid': True})\n",
    "\n",
    "sns.kdeplot(df_consume[df_consume['gas_type'] == 0].consume, shade=True, color='#eb4b6c', ax=axes[0], label='gas_type=0');\n",
    "sns.kdeplot(df_consume[df_consume['gas_type'] == 1].consume, shade=True, color='#12a177', ax=axes[0], label='gas_type=1');\n",
    "sns.kdeplot(df_consume[df_consume['AC'] == 0].consume, shade=True, color='#eb4b6c', ax=axes[1], label='AC=0');\n",
    "sns.kdeplot(df_consume[df_consume['AC'] == 1].consume, shade=True, color='#12a177', ax=axes[1], label='AC=1');\n",
    "sns.kdeplot(df_consume[df_consume['rain'] == 0].consume, shade=True, color='#eb4b6c', ax=axes[2], label='rain=0');\n",
    "sns.kdeplot(df_consume[df_consume['rain'] == 1].consume, shade=True, color='#12a177', ax=axes[2], label='rain=1');\n",
    "sns.kdeplot(df_consume[df_consume['sun'] == 0].consume, shade=True, color='#eb4b6c', ax=axes[3], label='sun=0');\n",
    "sns.kdeplot(df_consume[df_consume['sun'] == 1].consume, shade=True, color='#12a177', ax=axes[3], label='sun=1');"
   ]
  },
  {
   "cell_type": "markdown",
   "metadata": {},
   "source": [
    "###### 3.2.1. [Day1] 密度図に対する考察\n",
    "* 赤と緑の密度図のズレが大きいほどconsumeとの間に相関関係がある(consumeの値の変化に作用する)と考えられる<br>\n",
    "  よって\n",
    "* rainとconsumeの間には弱い相関関係がある<br>\n",
    "  rain=1の場合、天気が雨/雪のため水の抵抗がある(A) → 晴れや曇りの日より燃費が悪くなる(B)という「A→Bの因果関係がある」と考察される\n",
    "* sunとconsumeの間には弱い相関関係がある<br>\n",
    "  sun=1の場合、直射日光により車体が温かくなる(A) → 燃費が良くなる(B)という「A→Bの因果関係がある」と考察される"
   ]
  },
  {
   "cell_type": "markdown",
   "metadata": {},
   "source": [
    "##### 3.3. [Day1] 散布図の出力\n",
    "* 量的変数同士の相関関係を散布図にて確認する\n",
    "* rainの値によって散布図の内容を色分けする"
   ]
  },
  {
   "cell_type": "code",
   "execution_count": 7,
   "metadata": {},
   "outputs": [
    {
     "data": {
      "image/png": "[encoded data removed]",
      "text/plain": [
       "<Figure size 900x900 with 30 Axes>"
      ]
     },
     "metadata": {},
     "output_type": "display_data"
    }
   ],
   "source": [
    "sns.set_style(\"white\", {'axes.grid': False})\n",
    "\n",
    "df_quantitative = df_consume.drop(['gas_type', 'AC', 'rain', 'sun'], axis=1)\n",
    "\n",
    "# 量的変数を対象として散布図行列を作成する\n",
    "# 散布図行列の対角成分を密度図としている\n",
    "sns.pairplot(df_quantitative, vars=['distance', 'consume', 'speed', 'temp_inside', 'temp_outside'], palette='husl', diag_kind='kde');"
   ]
  },
  {
   "cell_type": "markdown",
   "metadata": {},
   "source": [
    "###### 3.3.1. [Day1] 散布図に対する考察\n",
    "* 目的変数consumeと他の量的変数との間それぞれにて外れ値をある程度整理すれば弱い相関関係があるように見える\n",
    "* temp_outsideがconsumeに対して線形に近い分布に見える\n",
    "* 客観的な特徴選択が可能ではなかったので相関係数の算出にて判断したい"
   ]
  },
  {
   "cell_type": "markdown",
   "metadata": {},
   "source": [
    "##### 3.4. [Day1] ヒートマップの出力\n",
    "* 相関係数の値をヒートマップにて着色し確認する\n",
    "* 質的変数と量的変数の相関関係について定量的に判断するために今回は相関比を使用せず相関係数にて代替する"
   ]
  },
  {
   "cell_type": "code",
   "execution_count": 8,
   "metadata": {
    "scrolled": false
   },
   "outputs": [
    {
     "data": {
      "image/png": "[encoded data removed]",
      "text/plain": [
       "<Figure size 936x720 with 2 Axes>"
      ]
     },
     "metadata": {},
     "output_type": "display_data"
    }
   ],
   "source": [
    "plt.figure(figsize=(13, 10))\n",
    "# 相関係数をヒートマップにして可視化\n",
    "sns.heatmap(df_consume.corr(), annot=True, square=True);"
   ]
  },
  {
   "cell_type": "markdown",
   "metadata": {},
   "source": [
    "###### 3.4.1. [Day1] ヒートマップに対する考察\n",
    "* 相関係数 r の値と相関の強さの関係として一般的に使用されるものは以下である\n",
    "\n",
    "|相関係数|相関の強さ|\n",
    "|---|---|\n",
    "|0.7 ≤ &#124; r &#124;|強い相関あり|\n",
    "|0.4 ≤ &#124; r &#124; < 0.7|中程度の相関あり|\n",
    "|0.2 ≤ &#124; r &#124; < 0.4|弱い相関あり|\n",
    "|&#124; r &#124; < 0.2|ほとんど相関なし|\n",
    "\n",
    "よって目的変数consumeとの相関係数の絶対値 |r|が0.2以上となる以下の項目を説明変数とする (|r|の高い順)\n",
    "* temp_outside (r=-0.32)　⇒　consumeと負の相関関係がある (外気温が高いとconsumeが低い = 燃費が良い)\n",
    "* rain (r=0.25)　⇒　consumeと正の相関関係がある (雨/雪が降るとconsumeが高い = 燃費が悪い)\n",
    "* speed (r=-0.23)　⇒　consumeと負の相関関係がある (平均時速が高いとconsumeが低い = 燃費が良い)"
   ]
  },
  {
   "cell_type": "markdown",
   "metadata": {},
   "source": [
    "#### 4. [Day1] 回帰分析を実行し精度評価指標値を取得する\n",
    "* 線形回帰を実行する\n",
    "* MSE, MAE, RMSEを取得し,RMSE/MAEの値も最終的な判断のために算出する<br>\n",
    "　⇒講師日熊様より前記判断基準は誤りであるとの指摘有り"
   ]
  },
  {
   "cell_type": "code",
   "execution_count": 9,
   "metadata": {},
   "outputs": [],
   "source": [
    "#warnings.filterwarnings('default')\n",
    "df_mean_error_day1 = pd.DataFrame(columns=[\"説明変数\", \"MSE\",\"MAE\",\"RMSE\", \"RMSE / MAE\"], index=[])\n",
    "\n",
    "# 四捨五入した数値を返す関数\n",
    "def r(data, precision):\n",
    "    return np.round(data, decimals=precision)\n",
    "\n",
    "def mean_errors(str, y, y_pred):\n",
    "    global df_mean_error_day1\n",
    "    mse = mean_squared_error(y, y_pred)  # MSEを計算\n",
    "    mae = mean_absolute_error(y, y_pred) # MAEを計算\n",
    "    rmse = np.sqrt(mse)                  # RMSEを計算\n",
    "\n",
    "    # pandas.Seriesに誤差数値を設定\n",
    "    sr_mean_error = pd.Series(data=[str, r(mse,4), r(mae,4), r(rmse,4), r(rmse/mae,4)], index=df_mean_error_day1.columns)\n",
    "\n",
    "    df_mean_error_day1 = df_mean_error_day1.append(sr_mean_error, ignore_index=True)"
   ]
  },
  {
   "cell_type": "markdown",
   "metadata": {},
   "source": [
    "##### 4.1. [Day1] 回帰分析の実行と精度評価指標値の取得　その1\n",
    "* temp_outsite, rain, speedを説明変数として線形回帰を実行する"
   ]
  },
  {
   "cell_type": "code",
   "execution_count": 10,
   "metadata": {},
   "outputs": [
    {
     "data": {
      "text/plain": [
       "array([-0.04144264,  0.62052816, -0.01712692])"
      ]
     },
     "metadata": {},
     "output_type": "display_data"
    },
    {
     "name": "stdout",
     "output_type": "stream",
     "text": [
      "w0 = 6.024, w1 = -0.041, w2 = 0.621, w3 = -0.017, 二乗誤差 = 167.2097\n"
     ]
    },
    {
     "data": {
      "text/plain": [
       "0.19046483826955973"
      ]
     },
     "execution_count": 10,
     "metadata": {},
     "output_type": "execute_result"
    }
   ],
   "source": [
    "# 説明変数をtemp_outside, rain, speedとする。\n",
    "\n",
    "# 係数を求める\n",
    "y = df_consume[\"consume\"].to_numpy()\n",
    "X = df_consume[[\"temp_outside\", \"rain\", \"speed\"]].to_numpy()\n",
    "regr = LinearRegression(fit_intercept=True)\n",
    "regr.fit(X, y)\n",
    "\n",
    "# 重みを取り出す\n",
    "w0 = regr.intercept_\n",
    "w1 = regr.coef_[0]\n",
    "w2 = regr.coef_[1]\n",
    "w3 = regr.coef_[2]\n",
    "display(regr.coef_)\n",
    "\n",
    "# 変数の設定\n",
    "x1 = df_consume[\"temp_outside\"]\n",
    "x2 = df_consume[\"rain\"]\n",
    "x3 = df_consume[\"speed\"]\n",
    "y = df_consume[\"consume\"]\n",
    "\n",
    "# 重みと二乗誤差の確認\n",
    "y_est = w0 + w1 * x1 + w2 * x2 + w3 * x3\n",
    "squared_error = 0.5 * np.sum((y - y_est) ** 2)\n",
    "print('w0 = {:.3f}, w1 = {:.3f}, w2 = {:.3f}, w3 = {:.3f}, 二乗誤差 = {:.4f}'\n",
    "      .format(w0, w1, w2, w3, squared_error))\n",
    "\n",
    "# 値を予測\n",
    "\n",
    "y_pred = regr.predict(X)\n",
    "\n",
    "mean_errors('\"temp_outside\", \"rain\", \"speed\"', y, y_pred)\n",
    "\n",
    "r2_score(y, y_pred)"
   ]
  },
  {
   "cell_type": "markdown",
   "metadata": {},
   "source": [
    "##### 4.2. [Day1] 回帰分析の実行と精度評価指標値の取得　その2\n",
    "* temp_outsite, rainを説明変数として線形回帰を実行する"
   ]
  },
  {
   "cell_type": "code",
   "execution_count": 11,
   "metadata": {
    "scrolled": true
   },
   "outputs": [
    {
     "name": "stdout",
     "output_type": "stream",
     "text": [
      "w0 = 5.314, w1 = -0.042, w2 = 0.611, 二乗誤差 = 177.7016\n"
     ]
    },
    {
     "data": {
      "text/plain": [
       "0.13966932621504902"
      ]
     },
     "execution_count": 11,
     "metadata": {},
     "output_type": "execute_result"
    }
   ],
   "source": [
    "# 説明変数をtemp_outside, rainとする。\n",
    "\n",
    "# 係数を求める\n",
    "y = df_consume[\"consume\"].to_numpy()\n",
    "X = df_consume[[\"temp_outside\", \"rain\"]].to_numpy()\n",
    "regr = LinearRegression(fit_intercept=True)\n",
    "regr.fit(X, y)\n",
    "\n",
    "# 重みを取り出す\n",
    "w0 = regr.intercept_\n",
    "w1 = regr.coef_[0]\n",
    "w2 = regr.coef_[1]\n",
    "\n",
    "# 変数の設定\n",
    "x1 = df_consume[\"temp_outside\"]\n",
    "x2 = df_consume[\"rain\"]\n",
    "y = df_consume[\"consume\"]\n",
    "\n",
    "# 重みと二乗誤差の確認\n",
    "y_est = w0 + w1 * x1 + w2 * x2\n",
    "squared_error = 0.5 * np.sum((y - y_est) ** 2)\n",
    "print('w0 = {:.3f}, w1 = {:.3f}, w2 = {:.3f}, 二乗誤差 = {:.4f}'\n",
    "      .format(w0, w1, w2, squared_error))\n",
    "\n",
    "# 値を予測\n",
    "y_pred = regr.predict(X)\n",
    "\n",
    "mean_errors('\"temp_outside\", \"rain\"', y, y_pred)\n",
    "\n",
    "r2_score(y, y_pred)"
   ]
  },
  {
   "cell_type": "markdown",
   "metadata": {},
   "source": [
    "##### 4.3. [Day1] 回帰分析の実行と精度評価指標値の取得　その3\n",
    "* temp_outsite, speedを説明変数として線形回帰を実行する"
   ]
  },
  {
   "cell_type": "code",
   "execution_count": 12,
   "metadata": {},
   "outputs": [
    {
     "name": "stdout",
     "output_type": "stream",
     "text": [
      "w0 = 6.155, w1 = -0.047, w2 = -0.017, 二乗誤差 = 175.0255\n"
     ]
    },
    {
     "data": {
      "text/plain": [
       "0.1526255327309749"
      ]
     },
     "execution_count": 12,
     "metadata": {},
     "output_type": "execute_result"
    }
   ],
   "source": [
    "# 説明変数をtemp_outside, speedとする。\n",
    "\n",
    "# 係数を求める\n",
    "y = df_consume[\"consume\"].to_numpy()\n",
    "X = df_consume[[\"temp_outside\", \"speed\"]].to_numpy()\n",
    "regr = LinearRegression(fit_intercept=True)\n",
    "regr.fit(X, y)\n",
    "\n",
    "# 重みを取り出す\n",
    "w0 = regr.intercept_\n",
    "w1 = regr.coef_[0]\n",
    "w2 = regr.coef_[1]\n",
    "\n",
    "# 変数の設定\n",
    "x1 = df_consume[\"temp_outside\"]\n",
    "x2 = df_consume[\"speed\"]\n",
    "y = df_consume[\"consume\"]\n",
    "\n",
    "# 重みと二乗誤差の確認\n",
    "y_est = w0 + w1 * x1 + w2 * x2\n",
    "squared_error = 0.5 * np.sum((y - y_est) ** 2)\n",
    "print('w0 = {:.3f}, w1 = {:.3f}, w2 = {:.3f}, 二乗誤差 = {:.4f}'\n",
    "      .format(w0, w1, w2, squared_error))\n",
    "\n",
    "# 値を予測\n",
    "y_pred = regr.predict(X)\n",
    "\n",
    "mean_errors('\"temp_outside\", \"speed\"', y, y_pred)\n",
    "\n",
    "r2_score(y, y_pred)"
   ]
  },
  {
   "cell_type": "markdown",
   "metadata": {},
   "source": [
    "##### 4.4. [Day1] 回帰分析の実行と精度評価指標値の取得　その4\n",
    "* temp_outsiteを説明変数として線形回帰を実行する"
   ]
  },
  {
   "cell_type": "code",
   "execution_count": 13,
   "metadata": {},
   "outputs": [
    {
     "name": "stdout",
     "output_type": "stream",
     "text": [
      "w0 = 5.451, w1 = -0.047, 二乗誤差 = 185.2923\n"
     ]
    },
    {
     "data": {
      "text/plain": [
       "0.1029194334666449"
      ]
     },
     "execution_count": 13,
     "metadata": {},
     "output_type": "execute_result"
    }
   ],
   "source": [
    "# 説明変数をtemp_outsideとする。\n",
    "\n",
    "# 係数を求める\n",
    "y = df_consume[\"consume\"].to_numpy()\n",
    "X = df_consume[[\"temp_outside\"]].to_numpy()\n",
    "regr = LinearRegression(fit_intercept=True)\n",
    "regr.fit(X, y)\n",
    "\n",
    "# 重みを取り出す\n",
    "w0 = regr.intercept_\n",
    "w1 = regr.coef_[0]\n",
    "\n",
    "# 変数の設定\n",
    "x1 = df_consume[\"temp_outside\"]\n",
    "y = df_consume[\"consume\"]\n",
    "\n",
    "# 重みと二乗誤差の確認\n",
    "y_est = w0 + w1 * x1\n",
    "squared_error = 0.5 * np.sum((y - y_est) ** 2)\n",
    "print('w0 = {:.3f}, w1 = {:.3f}, 二乗誤差 = {:.4f}'\n",
    "      .format(w0, w1, squared_error))\n",
    "\n",
    "# 値を予測\n",
    "y_pred = regr.predict(X)\n",
    "\n",
    "mean_errors(\"temp_outside\", y, y_pred)\n",
    "\n",
    "r2_score(y, y_pred)"
   ]
  },
  {
   "cell_type": "markdown",
   "metadata": {},
   "source": [
    "#### 5. [Day1] 精度評価指標値を表示する"
   ]
  },
  {
   "cell_type": "code",
   "execution_count": 14,
   "metadata": {},
   "outputs": [
    {
     "data": {
      "text/html": [
       "<div>\n",
       "<style scoped>\n",
       "    .dataframe tbody tr th:only-of-type {\n",
       "        vertical-align: middle;\n",
       "    }\n",
       "\n",
       "    .dataframe tbody tr th {\n",
       "        vertical-align: top;\n",
       "    }\n",
       "\n",
       "    .dataframe thead th {\n",
       "        text-align: right;\n",
       "    }\n",
       "</style>\n",
       "<table border=\"1\" class=\"dataframe\">\n",
       "  <thead>\n",
       "    <tr style=\"text-align: right;\">\n",
       "      <th></th>\n",
       "      <th>説明変数</th>\n",
       "      <th>MSE</th>\n",
       "      <th>MAE</th>\n",
       "      <th>RMSE</th>\n",
       "      <th>RMSE / MAE</th>\n",
       "    </tr>\n",
       "  </thead>\n",
       "  <tbody>\n",
       "    <tr>\n",
       "      <th>0</th>\n",
       "      <td>\"temp_outside\", \"rain\", \"speed\"</td>\n",
       "      <td>0.8619</td>\n",
       "      <td>0.6188</td>\n",
       "      <td>0.9284</td>\n",
       "      <td>1.5002</td>\n",
       "    </tr>\n",
       "    <tr>\n",
       "      <th>1</th>\n",
       "      <td>\"temp_outside\", \"rain\"</td>\n",
       "      <td>0.9160</td>\n",
       "      <td>0.6109</td>\n",
       "      <td>0.9571</td>\n",
       "      <td>1.5666</td>\n",
       "    </tr>\n",
       "    <tr>\n",
       "      <th>2</th>\n",
       "      <td>\"temp_outside\", \"speed\"</td>\n",
       "      <td>0.9022</td>\n",
       "      <td>0.6332</td>\n",
       "      <td>0.9498</td>\n",
       "      <td>1.5001</td>\n",
       "    </tr>\n",
       "    <tr>\n",
       "      <th>3</th>\n",
       "      <td>temp_outside</td>\n",
       "      <td>0.9551</td>\n",
       "      <td>0.6271</td>\n",
       "      <td>0.9773</td>\n",
       "      <td>1.5585</td>\n",
       "    </tr>\n",
       "  </tbody>\n",
       "</table>\n",
       "</div>"
      ],
      "text/plain": [
       "                              説明変数     MSE     MAE    RMSE  RMSE / MAE\n",
       "0  \"temp_outside\", \"rain\", \"speed\"  0.8619  0.6188  0.9284      1.5002\n",
       "1           \"temp_outside\", \"rain\"  0.9160  0.6109  0.9571      1.5666\n",
       "2          \"temp_outside\", \"speed\"  0.9022  0.6332  0.9498      1.5001\n",
       "3                     temp_outside  0.9551  0.6271  0.9773      1.5585"
      ]
     },
     "metadata": {},
     "output_type": "display_data"
    }
   ],
   "source": [
    "display(df_mean_error_day1)"
   ]
  },
  {
   "cell_type": "markdown",
   "metadata": {},
   "source": [
    "#### 5.1. [Day1] 精度評価指標値を評価する\n",
    "* RMSE/MAEの値が1.253に一番近い値(誤差が正規分布に従う)を精度の高い特徴選択とする\n",
    "* 結論として，RMSE/MAEの値が1.5001となったtemp_outside, speedが説明変数の回帰モデルが一番精度の高い予測値となると考察される<br><br>\n",
    "⇒講師日熊様より上記考察は標準化してから測定する値であり誤りであること、またMAEの値で評価するようにコメントあり\n",
    "* よってMAEが一番低かったtemp_outside, rainが説明変数の回帰モデルが一番精度の高い予測値となると考察される"
   ]
  },
  {
   "cell_type": "markdown",
   "metadata": {},
   "source": [
    "#### 6. [Day2] 異常値を観測し除外の有無を考察する\n",
    "* 外れ値を含む箱ひげ図を表示する\n",
    "* 箱ひげ図の第一四分位数と第三四分位数より外側の外れ値を実際に見て考察したい"
   ]
  },
  {
   "cell_type": "code",
   "execution_count": 15,
   "metadata": {
    "scrolled": false
   },
   "outputs": [
    {
     "data": {
      "image/png": "[encoded data removed]",
      "text/plain": [
       "<Figure size 1224x432 with 5 Axes>"
      ]
     },
     "metadata": {},
     "output_type": "display_data"
    }
   ],
   "source": [
    "#ax = sns.boxplot(x=df_consume[\"distance\"], y = df_consume[\"consume\"])\n",
    "fig, axes = plt.subplots(1, 5, figsize=(17,6))\n",
    "sns.set_style(\"whitegrid\", {'axes.grid': True})\n",
    "\n",
    "sns.boxplot(data = df_consume[\"distance\"], ax=axes[0]);\n",
    "sns.boxplot(data = df_consume[\"consume\"], ax=axes[1]);\n",
    "sns.boxplot(data = df_consume[\"speed\"], ax=axes[2]);\n",
    "sns.boxplot(data = df_consume[\"temp_inside\"], ax=axes[3]);\n",
    "sns.boxplot(data = df_consume[\"temp_outside\"], ax=axes[4]);"
   ]
  },
  {
   "cell_type": "markdown",
   "metadata": {},
   "source": [
    "##### 6.1. [Day2] 異常値に対する考察　その1\n",
    "* distanceとconsumeに関して極端に高い値の外れ値が存在するため実際の外れ値を見て判断したい\n",
    "* その他の外れ値についても問題はないと考察した"
   ]
  },
  {
   "cell_type": "code",
   "execution_count": 16,
   "metadata": {},
   "outputs": [
    {
     "data": {
      "text/html": [
       "<div>\n",
       "<style scoped>\n",
       "    .dataframe tbody tr th:only-of-type {\n",
       "        vertical-align: middle;\n",
       "    }\n",
       "\n",
       "    .dataframe tbody tr th {\n",
       "        vertical-align: top;\n",
       "    }\n",
       "\n",
       "    .dataframe thead th {\n",
       "        text-align: right;\n",
       "    }\n",
       "</style>\n",
       "<table border=\"1\" class=\"dataframe\">\n",
       "  <thead>\n",
       "    <tr style=\"text-align: right;\">\n",
       "      <th></th>\n",
       "      <th>distance</th>\n",
       "      <th>consume</th>\n",
       "      <th>speed</th>\n",
       "      <th>temp_inside</th>\n",
       "      <th>temp_outside</th>\n",
       "      <th>gas_type</th>\n",
       "      <th>AC</th>\n",
       "      <th>rain</th>\n",
       "      <th>sun</th>\n",
       "    </tr>\n",
       "  </thead>\n",
       "  <tbody>\n",
       "    <tr>\n",
       "      <th>319</th>\n",
       "      <td>216.1</td>\n",
       "      <td>5.3</td>\n",
       "      <td>90</td>\n",
       "      <td>22.0</td>\n",
       "      <td>21</td>\n",
       "      <td>0</td>\n",
       "      <td>0</td>\n",
       "      <td>0</td>\n",
       "      <td>1</td>\n",
       "    </tr>\n",
       "    <tr>\n",
       "      <th>318</th>\n",
       "      <td>211.0</td>\n",
       "      <td>4.6</td>\n",
       "      <td>80</td>\n",
       "      <td>22.0</td>\n",
       "      <td>20</td>\n",
       "      <td>0</td>\n",
       "      <td>0</td>\n",
       "      <td>0</td>\n",
       "      <td>0</td>\n",
       "    </tr>\n",
       "    <tr>\n",
       "      <th>106</th>\n",
       "      <td>162.7</td>\n",
       "      <td>5.5</td>\n",
       "      <td>75</td>\n",
       "      <td>23.0</td>\n",
       "      <td>1</td>\n",
       "      <td>0</td>\n",
       "      <td>0</td>\n",
       "      <td>0</td>\n",
       "      <td>0</td>\n",
       "    </tr>\n",
       "    <tr>\n",
       "      <th>55</th>\n",
       "      <td>153.5</td>\n",
       "      <td>4.9</td>\n",
       "      <td>82</td>\n",
       "      <td>21.5</td>\n",
       "      <td>3</td>\n",
       "      <td>0</td>\n",
       "      <td>0</td>\n",
       "      <td>1</td>\n",
       "      <td>0</td>\n",
       "    </tr>\n",
       "    <tr>\n",
       "      <th>189</th>\n",
       "      <td>130.3</td>\n",
       "      <td>4.6</td>\n",
       "      <td>85</td>\n",
       "      <td>22.0</td>\n",
       "      <td>12</td>\n",
       "      <td>1</td>\n",
       "      <td>0</td>\n",
       "      <td>0</td>\n",
       "      <td>0</td>\n",
       "    </tr>\n",
       "    <tr>\n",
       "      <th>334</th>\n",
       "      <td>129.7</td>\n",
       "      <td>4.6</td>\n",
       "      <td>58</td>\n",
       "      <td>24.0</td>\n",
       "      <td>21</td>\n",
       "      <td>1</td>\n",
       "      <td>0</td>\n",
       "      <td>0</td>\n",
       "      <td>0</td>\n",
       "    </tr>\n",
       "    <tr>\n",
       "      <th>272</th>\n",
       "      <td>101.9</td>\n",
       "      <td>5.2</td>\n",
       "      <td>75</td>\n",
       "      <td>22.0</td>\n",
       "      <td>18</td>\n",
       "      <td>1</td>\n",
       "      <td>0</td>\n",
       "      <td>0</td>\n",
       "      <td>0</td>\n",
       "    </tr>\n",
       "    <tr>\n",
       "      <th>333</th>\n",
       "      <td>100.9</td>\n",
       "      <td>4.7</td>\n",
       "      <td>87</td>\n",
       "      <td>23.5</td>\n",
       "      <td>22</td>\n",
       "      <td>1</td>\n",
       "      <td>0</td>\n",
       "      <td>0</td>\n",
       "      <td>0</td>\n",
       "    </tr>\n",
       "    <tr>\n",
       "      <th>273</th>\n",
       "      <td>93.9</td>\n",
       "      <td>4.8</td>\n",
       "      <td>88</td>\n",
       "      <td>23.0</td>\n",
       "      <td>18</td>\n",
       "      <td>1</td>\n",
       "      <td>1</td>\n",
       "      <td>0</td>\n",
       "      <td>1</td>\n",
       "    </tr>\n",
       "    <tr>\n",
       "      <th>188</th>\n",
       "      <td>81.2</td>\n",
       "      <td>4.4</td>\n",
       "      <td>69</td>\n",
       "      <td>22.0</td>\n",
       "      <td>13</td>\n",
       "      <td>1</td>\n",
       "      <td>0</td>\n",
       "      <td>0</td>\n",
       "      <td>0</td>\n",
       "    </tr>\n",
       "  </tbody>\n",
       "</table>\n",
       "</div>"
      ],
      "text/plain": [
       "     distance  consume  speed  temp_inside  temp_outside  gas_type  AC  rain  \\\n",
       "319     216.1      5.3     90         22.0            21         0   0     0   \n",
       "318     211.0      4.6     80         22.0            20         0   0     0   \n",
       "106     162.7      5.5     75         23.0             1         0   0     0   \n",
       "55      153.5      4.9     82         21.5             3         0   0     1   \n",
       "189     130.3      4.6     85         22.0            12         1   0     0   \n",
       "334     129.7      4.6     58         24.0            21         1   0     0   \n",
       "272     101.9      5.2     75         22.0            18         1   0     0   \n",
       "333     100.9      4.7     87         23.5            22         1   0     0   \n",
       "273      93.9      4.8     88         23.0            18         1   1     0   \n",
       "188      81.2      4.4     69         22.0            13         1   0     0   \n",
       "\n",
       "     sun  \n",
       "319    1  \n",
       "318    0  \n",
       "106    0  \n",
       "55     0  \n",
       "189    0  \n",
       "334    0  \n",
       "272    0  \n",
       "333    0  \n",
       "273    1  \n",
       "188    0  "
      ]
     },
     "metadata": {},
     "output_type": "display_data"
    },
    {
     "data": {
      "text/html": [
       "<div>\n",
       "<style scoped>\n",
       "    .dataframe tbody tr th:only-of-type {\n",
       "        vertical-align: middle;\n",
       "    }\n",
       "\n",
       "    .dataframe tbody tr th {\n",
       "        vertical-align: top;\n",
       "    }\n",
       "\n",
       "    .dataframe thead th {\n",
       "        text-align: right;\n",
       "    }\n",
       "</style>\n",
       "<table border=\"1\" class=\"dataframe\">\n",
       "  <thead>\n",
       "    <tr style=\"text-align: right;\">\n",
       "      <th></th>\n",
       "      <th>distance</th>\n",
       "      <th>consume</th>\n",
       "      <th>speed</th>\n",
       "      <th>temp_inside</th>\n",
       "      <th>temp_outside</th>\n",
       "      <th>gas_type</th>\n",
       "      <th>AC</th>\n",
       "      <th>rain</th>\n",
       "      <th>sun</th>\n",
       "    </tr>\n",
       "  </thead>\n",
       "  <tbody>\n",
       "    <tr>\n",
       "      <th>61</th>\n",
       "      <td>2.1</td>\n",
       "      <td>12.2</td>\n",
       "      <td>23</td>\n",
       "      <td>21.5</td>\n",
       "      <td>9</td>\n",
       "      <td>0</td>\n",
       "      <td>1</td>\n",
       "      <td>1</td>\n",
       "      <td>0</td>\n",
       "    </tr>\n",
       "    <tr>\n",
       "      <th>210</th>\n",
       "      <td>1.3</td>\n",
       "      <td>11.5</td>\n",
       "      <td>21</td>\n",
       "      <td>20.0</td>\n",
       "      <td>10</td>\n",
       "      <td>0</td>\n",
       "      <td>0</td>\n",
       "      <td>0</td>\n",
       "      <td>0</td>\n",
       "    </tr>\n",
       "    <tr>\n",
       "      <th>147</th>\n",
       "      <td>1.7</td>\n",
       "      <td>10.8</td>\n",
       "      <td>14</td>\n",
       "      <td>21.5</td>\n",
       "      <td>10</td>\n",
       "      <td>1</td>\n",
       "      <td>0</td>\n",
       "      <td>1</td>\n",
       "      <td>0</td>\n",
       "    </tr>\n",
       "    <tr>\n",
       "      <th>45</th>\n",
       "      <td>2.0</td>\n",
       "      <td>9.9</td>\n",
       "      <td>21</td>\n",
       "      <td>21.5</td>\n",
       "      <td>4</td>\n",
       "      <td>0</td>\n",
       "      <td>0</td>\n",
       "      <td>0</td>\n",
       "      <td>0</td>\n",
       "    </tr>\n",
       "    <tr>\n",
       "      <th>206</th>\n",
       "      <td>2.4</td>\n",
       "      <td>9.0</td>\n",
       "      <td>26</td>\n",
       "      <td>20.0</td>\n",
       "      <td>10</td>\n",
       "      <td>0</td>\n",
       "      <td>0</td>\n",
       "      <td>0</td>\n",
       "      <td>0</td>\n",
       "    </tr>\n",
       "    <tr>\n",
       "      <th>112</th>\n",
       "      <td>5.1</td>\n",
       "      <td>8.7</td>\n",
       "      <td>21</td>\n",
       "      <td>23.5</td>\n",
       "      <td>5</td>\n",
       "      <td>0</td>\n",
       "      <td>0</td>\n",
       "      <td>0</td>\n",
       "      <td>0</td>\n",
       "    </tr>\n",
       "    <tr>\n",
       "      <th>254</th>\n",
       "      <td>2.0</td>\n",
       "      <td>8.1</td>\n",
       "      <td>20</td>\n",
       "      <td>22.5</td>\n",
       "      <td>14</td>\n",
       "      <td>1</td>\n",
       "      <td>0</td>\n",
       "      <td>0</td>\n",
       "      <td>0</td>\n",
       "    </tr>\n",
       "    <tr>\n",
       "      <th>160</th>\n",
       "      <td>5.1</td>\n",
       "      <td>8.1</td>\n",
       "      <td>39</td>\n",
       "      <td>21.5</td>\n",
       "      <td>4</td>\n",
       "      <td>1</td>\n",
       "      <td>0</td>\n",
       "      <td>0</td>\n",
       "      <td>0</td>\n",
       "    </tr>\n",
       "    <tr>\n",
       "      <th>60</th>\n",
       "      <td>2.9</td>\n",
       "      <td>7.9</td>\n",
       "      <td>18</td>\n",
       "      <td>21.5</td>\n",
       "      <td>9</td>\n",
       "      <td>0</td>\n",
       "      <td>1</td>\n",
       "      <td>1</td>\n",
       "      <td>0</td>\n",
       "    </tr>\n",
       "    <tr>\n",
       "      <th>37</th>\n",
       "      <td>4.9</td>\n",
       "      <td>7.4</td>\n",
       "      <td>26</td>\n",
       "      <td>21.5</td>\n",
       "      <td>6</td>\n",
       "      <td>1</td>\n",
       "      <td>0</td>\n",
       "      <td>0</td>\n",
       "      <td>0</td>\n",
       "    </tr>\n",
       "  </tbody>\n",
       "</table>\n",
       "</div>"
      ],
      "text/plain": [
       "     distance  consume  speed  temp_inside  temp_outside  gas_type  AC  rain  \\\n",
       "61        2.1     12.2     23         21.5             9         0   1     1   \n",
       "210       1.3     11.5     21         20.0            10         0   0     0   \n",
       "147       1.7     10.8     14         21.5            10         1   0     1   \n",
       "45        2.0      9.9     21         21.5             4         0   0     0   \n",
       "206       2.4      9.0     26         20.0            10         0   0     0   \n",
       "112       5.1      8.7     21         23.5             5         0   0     0   \n",
       "254       2.0      8.1     20         22.5            14         1   0     0   \n",
       "160       5.1      8.1     39         21.5             4         1   0     0   \n",
       "60        2.9      7.9     18         21.5             9         0   1     1   \n",
       "37        4.9      7.4     26         21.5             6         1   0     0   \n",
       "\n",
       "     sun  \n",
       "61     0  \n",
       "210    0  \n",
       "147    0  \n",
       "45     0  \n",
       "206    0  \n",
       "112    0  \n",
       "254    0  \n",
       "160    0  \n",
       "60     0  \n",
       "37     0  "
      ]
     },
     "metadata": {},
     "output_type": "display_data"
    }
   ],
   "source": [
    "# 上記極端に高い値の外れ値データを見る\n",
    "display(df_consume.sort_values('distance', ascending=False).head(10))\n",
    "display(df_consume.sort_values('consume', ascending=False).head(10))"
   ]
  },
  {
   "cell_type": "markdown",
   "metadata": {},
   "source": [
    "##### 6.2. [Day2] 異常値に対する考察　その2\n",
    "* distanceは走行距離であることから今回の外れ値について長距離走行に関するデータと判断し問題ないと考察した\n",
    "* consumeの外れ値は100km走行に換算した場合のガソリン消費量であることから問題ないと考察した<br>\n",
    "　⇒同一の走行距離でも坂道発進や頻繁なアイドリングで燃費が悪くなるケースが考えられるため"
   ]
  },
  {
   "cell_type": "markdown",
   "metadata": {},
   "source": [
    "#### 7. [Day2] 量的変数を標準化する\n",
    "* 3.3.の散布図行列の対角行列に表示されている密度図にて、全ての量的変数に一峰性があることを確認できたので、量的変数を標準化する"
   ]
  },
  {
   "cell_type": "code",
   "execution_count": 17,
   "metadata": {
    "scrolled": false
   },
   "outputs": [
    {
     "data": {
      "text/html": [
       "<div>\n",
       "<style scoped>\n",
       "    .dataframe tbody tr th:only-of-type {\n",
       "        vertical-align: middle;\n",
       "    }\n",
       "\n",
       "    .dataframe tbody tr th {\n",
       "        vertical-align: top;\n",
       "    }\n",
       "\n",
       "    .dataframe thead th {\n",
       "        text-align: right;\n",
       "    }\n",
       "</style>\n",
       "<table border=\"1\" class=\"dataframe\">\n",
       "  <thead>\n",
       "    <tr style=\"text-align: right;\">\n",
       "      <th></th>\n",
       "      <th>distance</th>\n",
       "      <th>consume</th>\n",
       "      <th>speed</th>\n",
       "      <th>temp_inside</th>\n",
       "      <th>temp_outside</th>\n",
       "      <th>gas_type</th>\n",
       "      <th>AC</th>\n",
       "      <th>rain</th>\n",
       "      <th>sun</th>\n",
       "    </tr>\n",
       "  </thead>\n",
       "  <tbody>\n",
       "    <tr>\n",
       "      <th>0</th>\n",
       "      <td>0.368714</td>\n",
       "      <td>0.084925</td>\n",
       "      <td>-1.172804</td>\n",
       "      <td>-0.377733</td>\n",
       "      <td>0.091908</td>\n",
       "      <td>1</td>\n",
       "      <td>0</td>\n",
       "      <td>0</td>\n",
       "      <td>0</td>\n",
       "    </tr>\n",
       "    <tr>\n",
       "      <th>1</th>\n",
       "      <td>-0.338044</td>\n",
       "      <td>-0.690390</td>\n",
       "      <td>-0.878274</td>\n",
       "      <td>-0.377733</td>\n",
       "      <td>0.235123</td>\n",
       "      <td>1</td>\n",
       "      <td>0</td>\n",
       "      <td>0</td>\n",
       "      <td>0</td>\n",
       "    </tr>\n",
       "    <tr>\n",
       "      <th>2</th>\n",
       "      <td>-0.373381</td>\n",
       "      <td>0.569497</td>\n",
       "      <td>-0.289216</td>\n",
       "      <td>-0.377733</td>\n",
       "      <td>0.521552</td>\n",
       "      <td>1</td>\n",
       "      <td>0</td>\n",
       "      <td>0</td>\n",
       "      <td>0</td>\n",
       "    </tr>\n",
       "    <tr>\n",
       "      <th>3</th>\n",
       "      <td>-0.298288</td>\n",
       "      <td>-0.981133</td>\n",
       "      <td>-0.436480</td>\n",
       "      <td>-0.377733</td>\n",
       "      <td>0.378338</td>\n",
       "      <td>1</td>\n",
       "      <td>0</td>\n",
       "      <td>0</td>\n",
       "      <td>0</td>\n",
       "    </tr>\n",
       "    <tr>\n",
       "      <th>4</th>\n",
       "      <td>-0.050923</td>\n",
       "      <td>-0.399647</td>\n",
       "      <td>0.299843</td>\n",
       "      <td>-0.377733</td>\n",
       "      <td>0.521552</td>\n",
       "      <td>1</td>\n",
       "      <td>0</td>\n",
       "      <td>0</td>\n",
       "      <td>0</td>\n",
       "    </tr>\n",
       "  </tbody>\n",
       "</table>\n",
       "</div>"
      ],
      "text/plain": [
       "   distance   consume     speed  temp_inside  temp_outside  gas_type  AC  \\\n",
       "0  0.368714  0.084925 -1.172804    -0.377733      0.091908         1   0   \n",
       "1 -0.338044 -0.690390 -0.878274    -0.377733      0.235123         1   0   \n",
       "2 -0.373381  0.569497 -0.289216    -0.377733      0.521552         1   0   \n",
       "3 -0.298288 -0.981133 -0.436480    -0.377733      0.378338         1   0   \n",
       "4 -0.050923 -0.399647  0.299843    -0.377733      0.521552         1   0   \n",
       "\n",
       "   rain  sun  \n",
       "0     0    0  \n",
       "1     0    0  \n",
       "2     0    0  \n",
       "3     0    0  \n",
       "4     0    0  "
      ]
     },
     "metadata": {},
     "output_type": "display_data"
    },
    {
     "data": {
      "text/html": [
       "<div>\n",
       "<style scoped>\n",
       "    .dataframe tbody tr th:only-of-type {\n",
       "        vertical-align: middle;\n",
       "    }\n",
       "\n",
       "    .dataframe tbody tr th {\n",
       "        vertical-align: top;\n",
       "    }\n",
       "\n",
       "    .dataframe thead th {\n",
       "        text-align: right;\n",
       "    }\n",
       "</style>\n",
       "<table border=\"1\" class=\"dataframe\">\n",
       "  <thead>\n",
       "    <tr style=\"text-align: right;\">\n",
       "      <th></th>\n",
       "      <th>count</th>\n",
       "      <th>mean</th>\n",
       "      <th>std</th>\n",
       "      <th>min</th>\n",
       "      <th>25%</th>\n",
       "      <th>50%</th>\n",
       "      <th>75%</th>\n",
       "      <th>max</th>\n",
       "    </tr>\n",
       "  </thead>\n",
       "  <tbody>\n",
       "    <tr>\n",
       "      <th>distance</th>\n",
       "      <td>388.0</td>\n",
       "      <td>1.322682e-16</td>\n",
       "      <td>1.001291</td>\n",
       "      <td>-0.810687</td>\n",
       "      <td>-0.346878</td>\n",
       "      <td>-0.223195</td>\n",
       "      <td>-0.028837</td>\n",
       "      <td>8.677529</td>\n",
       "    </tr>\n",
       "    <tr>\n",
       "      <th>consume</th>\n",
       "      <td>388.0</td>\n",
       "      <td>-5.077553e-16</td>\n",
       "      <td>1.001291</td>\n",
       "      <td>-1.562618</td>\n",
       "      <td>-0.593475</td>\n",
       "      <td>-0.205818</td>\n",
       "      <td>0.375668</td>\n",
       "      <td>7.062756</td>\n",
       "    </tr>\n",
       "    <tr>\n",
       "      <th>speed</th>\n",
       "      <td>388.0</td>\n",
       "      <td>2.392130e-16</td>\n",
       "      <td>1.001291</td>\n",
       "      <td>-2.056392</td>\n",
       "      <td>-0.675786</td>\n",
       "      <td>-0.105135</td>\n",
       "      <td>0.594372</td>\n",
       "      <td>3.539666</td>\n",
       "    </tr>\n",
       "    <tr>\n",
       "      <th>temp_inside</th>\n",
       "      <td>388.0</td>\n",
       "      <td>-2.337191e-15</td>\n",
       "      <td>1.001291</td>\n",
       "      <td>-2.796221</td>\n",
       "      <td>-0.377733</td>\n",
       "      <td>0.105965</td>\n",
       "      <td>0.589662</td>\n",
       "      <td>3.491848</td>\n",
       "    </tr>\n",
       "    <tr>\n",
       "      <th>temp_outside</th>\n",
       "      <td>388.0</td>\n",
       "      <td>4.475229e-16</td>\n",
       "      <td>1.001291</td>\n",
       "      <td>-2.342740</td>\n",
       "      <td>-0.624165</td>\n",
       "      <td>-0.194521</td>\n",
       "      <td>0.664767</td>\n",
       "      <td>2.812986</td>\n",
       "    </tr>\n",
       "    <tr>\n",
       "      <th>gas_type</th>\n",
       "      <td>388.0</td>\n",
       "      <td>4.123711e-01</td>\n",
       "      <td>0.492897</td>\n",
       "      <td>0.000000</td>\n",
       "      <td>0.000000</td>\n",
       "      <td>0.000000</td>\n",
       "      <td>1.000000</td>\n",
       "      <td>1.000000</td>\n",
       "    </tr>\n",
       "    <tr>\n",
       "      <th>AC</th>\n",
       "      <td>388.0</td>\n",
       "      <td>7.731959e-02</td>\n",
       "      <td>0.267443</td>\n",
       "      <td>0.000000</td>\n",
       "      <td>0.000000</td>\n",
       "      <td>0.000000</td>\n",
       "      <td>0.000000</td>\n",
       "      <td>1.000000</td>\n",
       "    </tr>\n",
       "    <tr>\n",
       "      <th>rain</th>\n",
       "      <td>388.0</td>\n",
       "      <td>1.237113e-01</td>\n",
       "      <td>0.329677</td>\n",
       "      <td>0.000000</td>\n",
       "      <td>0.000000</td>\n",
       "      <td>0.000000</td>\n",
       "      <td>0.000000</td>\n",
       "      <td>1.000000</td>\n",
       "    </tr>\n",
       "    <tr>\n",
       "      <th>sun</th>\n",
       "      <td>388.0</td>\n",
       "      <td>8.247423e-02</td>\n",
       "      <td>0.275441</td>\n",
       "      <td>0.000000</td>\n",
       "      <td>0.000000</td>\n",
       "      <td>0.000000</td>\n",
       "      <td>0.000000</td>\n",
       "      <td>1.000000</td>\n",
       "    </tr>\n",
       "  </tbody>\n",
       "</table>\n",
       "</div>"
      ],
      "text/plain": [
       "              count          mean       std       min       25%       50%  \\\n",
       "distance      388.0  1.322682e-16  1.001291 -0.810687 -0.346878 -0.223195   \n",
       "consume       388.0 -5.077553e-16  1.001291 -1.562618 -0.593475 -0.205818   \n",
       "speed         388.0  2.392130e-16  1.001291 -2.056392 -0.675786 -0.105135   \n",
       "temp_inside   388.0 -2.337191e-15  1.001291 -2.796221 -0.377733  0.105965   \n",
       "temp_outside  388.0  4.475229e-16  1.001291 -2.342740 -0.624165 -0.194521   \n",
       "gas_type      388.0  4.123711e-01  0.492897  0.000000  0.000000  0.000000   \n",
       "AC            388.0  7.731959e-02  0.267443  0.000000  0.000000  0.000000   \n",
       "rain          388.0  1.237113e-01  0.329677  0.000000  0.000000  0.000000   \n",
       "sun           388.0  8.247423e-02  0.275441  0.000000  0.000000  0.000000   \n",
       "\n",
       "                   75%       max  \n",
       "distance     -0.028837  8.677529  \n",
       "consume       0.375668  7.062756  \n",
       "speed         0.594372  3.539666  \n",
       "temp_inside   0.589662  3.491848  \n",
       "temp_outside  0.664767  2.812986  \n",
       "gas_type      1.000000  1.000000  \n",
       "AC            0.000000  1.000000  \n",
       "rain          0.000000  1.000000  \n",
       "sun           0.000000  1.000000  "
      ]
     },
     "execution_count": 17,
     "metadata": {},
     "output_type": "execute_result"
    }
   ],
   "source": [
    "from sklearn.preprocessing import StandardScaler\n",
    "\n",
    "stdsc = StandardScaler()\n",
    "# 標準化する\n",
    "df_consume_scaled_temp = pd.DataFrame(stdsc.fit_transform(df_quantitative), columns=df_quantitative.columns)\n",
    "#df_consume_scaled = df_consume_scaled_temp.assign(gas_type=df_consume['gas_type'], AC=df_consume['AC'], rain=df_consume['rain'], sun=df_consume['sun'])\n",
    "df_consume_scaled = pd.concat([df_consume_scaled_temp, df_consume['gas_type'], df_consume['AC'], df_consume['rain'], df_consume['sun']], axis=1)\n",
    "del df_consume_scaled_temp\n",
    "\n",
    "# 量的変数が標準化されたことを確認\n",
    "display(df_consume_scaled.head())\n",
    "\n",
    "# 要約統計量を出力し標準化されていること(平均=0, 標準偏差=1)であることを確認\n",
    "df_consume_scaled.describe().T"
   ]
  },
  {
   "cell_type": "markdown",
   "metadata": {},
   "source": [
    "##### 7.1. [Day2] 回帰分析の実行と精度評価指標値の取得　その1\n",
    "* 標準化した量的変数を用いてtemp_outsite, rainを説明変数として線形回帰を実行する"
   ]
  },
  {
   "cell_type": "code",
   "execution_count": 18,
   "metadata": {},
   "outputs": [],
   "source": [
    "#warnings.filterwarnings('default')\n",
    "df_mean_error_day2 = pd.DataFrame(columns=[\"検証手法\", \"MAE\"], index=[])\n",
    "\n",
    "def mean_errors_day2(str, y, y_pred):\n",
    "    global df_mean_error_day2\n",
    "    mae = mean_absolute_error(y, y_pred) # MAEを計算\n",
    "\n",
    "    # pandas.Seriesに誤差数値を設定\n",
    "    sr_mean_error = pd.Series(data=[str, r(mae,4)], index=df_mean_error_day2.columns)\n",
    "\n",
    "    df_mean_error_day2 = df_mean_error_day2.append(sr_mean_error, ignore_index=True)"
   ]
  },
  {
   "cell_type": "code",
   "execution_count": 19,
   "metadata": {},
   "outputs": [
    {
     "name": "stdout",
     "output_type": "stream",
     "text": [
      "w0 = -0.073, w1 = -0.284, w2 = 0.593, 二乗誤差 = 166.9042\n"
     ]
    },
    {
     "data": {
      "text/plain": [
       "0.1396693262150489"
      ]
     },
     "execution_count": 19,
     "metadata": {},
     "output_type": "execute_result"
    },
    {
     "data": {
      "image/png": "[encoded data removed]",
      "text/plain": [
       "<Figure size 432x288 with 1 Axes>"
      ]
     },
     "metadata": {},
     "output_type": "display_data"
    }
   ],
   "source": [
    "# 説明変数をtemp_outside, rainとする。\n",
    "\n",
    "# 係数を求める\n",
    "y = df_consume_scaled[\"consume\"].to_numpy()\n",
    "X = df_consume_scaled[[\"temp_outside\", \"rain\"]].to_numpy()\n",
    "regr = LinearRegression(fit_intercept=True)\n",
    "regr.fit(X, y)\n",
    "\n",
    "# 重みを取り出す\n",
    "w0 = regr.intercept_\n",
    "w1 = regr.coef_[0]\n",
    "w2 = regr.coef_[1]\n",
    "\n",
    "# 変数の設定\n",
    "x1 = df_consume_scaled[\"temp_outside\"]\n",
    "x2 = df_consume_scaled[\"rain\"]\n",
    "y = df_consume_scaled[\"consume\"]\n",
    "\n",
    "# 重みと二乗誤差の確認\n",
    "y_est = w0 + w1 * x1 + w2 * x2\n",
    "squared_error = 0.5 * np.sum((y - y_est) ** 2)\n",
    "print('w0 = {:.3f}, w1 = {:.3f}, w2 = {:.3f}, 二乗誤差 = {:.4f}'\n",
    "      .format(w0, w1, w2, squared_error))\n",
    "\n",
    "# 値を予測\n",
    "y_pred = regr.predict(X)\n",
    "\n",
    "mean_errors_day2(\"標準化\", y, y_pred)\n",
    "\n",
    "# 線形回帰の残差(実在値と予測値の差)を表示する\n",
    "pd.Series(y - y_pred).hist(bins=50);\n",
    "\n",
    "r2_score(y, y_pred)"
   ]
  },
  {
   "cell_type": "markdown",
   "metadata": {},
   "source": [
    "##### 8. [Day2] 交差検証法の実行と精度評価指標値の取得\n",
    "* 交差検証法を使用してtemp_outsite, rainを説明変数とした線形回帰を実行する"
   ]
  },
  {
   "cell_type": "code",
   "execution_count": 20,
   "metadata": {},
   "outputs": [
    {
     "name": "stdout",
     "output_type": "stream",
     "text": [
      "Fold 1\n",
      "MAE = 0.699\n",
      "\n",
      "Fold 2\n",
      "MAE = 0.667\n",
      "\n",
      "Fold 3\n",
      "MAE = 0.606\n",
      "\n",
      "Fold 4\n",
      "MAE = 0.537\n",
      "\n",
      "Fold 5\n",
      "MAE = 0.486\n",
      "\n",
      "Cross Validation MAE = 0.599\n"
     ]
    },
    {
     "data": {
      "text/plain": [
       "-0.3135963597830518"
      ]
     },
     "execution_count": 20,
     "metadata": {},
     "output_type": "execute_result"
    },
    {
     "data": {
      "image/png": "[encoded data removed]",
      "text/plain": [
       "<Figure size 432x288 with 1 Axes>"
      ]
     },
     "metadata": {},
     "output_type": "display_data"
    }
   ],
   "source": [
    "from sklearn.model_selection import KFold # 交差検証法に関する関数\n",
    "\n",
    "y = df_consume_scaled[\"consume\"].to_numpy()\n",
    "X = df_consume_scaled[[\"temp_outside\", \"rain\"]].to_numpy()\n",
    "\n",
    "#X = x.reshape(-1,1) # scikit-learnに入力するために整形\n",
    "n_split = 5 # グループ数を設定（今回は5分割）\n",
    "\n",
    "cross_valid_mae = 0\n",
    "split_num = 1\n",
    "\n",
    "# テスト役を交代させながら学習と評価を繰り返す\n",
    "for train_idx, test_idx in KFold(n_splits=n_split, random_state=1234).split(X, y):\n",
    "    X_train, y_train = X[train_idx], y[train_idx] #学習用データ\n",
    "    X_test, y_test = X[test_idx], y[test_idx]     #テスト用データ\n",
    "    \n",
    "    # 学習用データを使って線形回帰モデルを学習\n",
    "    regr = LinearRegression(fit_intercept=True)\n",
    "    regr.fit(X_train, y_train)\n",
    "\n",
    "    # テストデータに対する予測を実行\n",
    "    y_pred_test = regr.predict(X_test)\n",
    "    \n",
    "    # テストデータに対するMAEを計算\n",
    "    mae = mean_absolute_error(y_test, y_pred_test)\n",
    "    print(\"Fold %s\"%split_num)\n",
    "    print(\"MAE = %s\"%round(mae, 3))\n",
    "    print()\n",
    "    \n",
    "    cross_valid_mae += mae #後で平均を取るためにMAEを加算\n",
    "    split_num += 1\n",
    "\n",
    "# MAEの平均値を最終的な汎化誤差値とする\n",
    "final_mae = cross_valid_mae / n_split\n",
    "print(\"Cross Validation MAE = %s\"%round(final_mae, 3))\n",
    "\n",
    "sr_mean_error = pd.Series(data=[\"(標準化+)交差検証\", r(final_mae,4)], index=df_mean_error_day2.columns)\n",
    "df_mean_error_day2 = df_mean_error_day2.append(sr_mean_error, ignore_index=True)\n",
    "    \n",
    "# 線形回帰の残差(実在値と予測値の差)を表示する\n",
    "pd.Series(y_test - y_pred_test).hist(bins=50);\n",
    "\n",
    "r2_score(y_test, y_pred_test)"
   ]
  },
  {
   "cell_type": "markdown",
   "metadata": {},
   "source": [
    "##### 9. [Day2] リッジ回帰の実行と精度評価指標値の取得\n",
    "* temp_outsite, rainを説明変数としたリッジ回帰を実行する\n",
    "* 交差検証(RidgeCV)を使用してalpha(数式ではλ)パラメータのチューニングを実施する"
   ]
  },
  {
   "cell_type": "code",
   "execution_count": 21,
   "metadata": {},
   "outputs": [
    {
     "name": "stdout",
     "output_type": "stream",
     "text": [
      "平均誤差の最小値:  1.0\n",
      "RidgeCVクラスによる最善値:  1.0\n"
     ]
    },
    {
     "data": {
      "image/png": "[encoded data removed]",
      "text/plain": [
       "<Figure size 432x288 with 1 Axes>"
      ]
     },
     "metadata": {},
     "output_type": "display_data"
    }
   ],
   "source": [
    "from sklearn.linear_model import RidgeCV\n",
    "\n",
    "y = df_consume_scaled[\"consume\"].to_numpy()\n",
    "X = df_consume_scaled[[\"temp_outside\", \"rain\"]].to_numpy()\n",
    "\n",
    "# 0.01から1の間のデータ点(合計50個: np.linspaceのnumのデフォルトが50)にてアルファをテストする\n",
    "alphas_to_test = np.linspace(0.01, 1)\n",
    "# store_cv_values=TrueでRidgeCVオブジェクトに交差検証の値を格納する\n",
    "rcv = RidgeCV(alphas=alphas_to_test, store_cv_values=True)\n",
    "# 回帰を適合\n",
    "rcv.fit(X, y)\n",
    "\n",
    "# 平均誤差の最小値を特定し、その値をアルファとして選択\n",
    "smallest_idx = rcv.cv_values_.mean(axis=0).argmin()\n",
    "print(\"平均誤差の最小値: \", alphas_to_test[smallest_idx])\n",
    "\n",
    "# RidgeCVクラスのrcvインスタンスによって特定された最善の値（上記平均誤差の最小値と一致する）\n",
    "print(\"RidgeCVクラスによる最善値: \", rcv.alpha_)\n",
    "\n",
    "# 50個のアルファの平均値をプロット\n",
    "plt.plot(alphas_to_test, rcv.cv_values_.mean(axis=0));"
   ]
  },
  {
   "cell_type": "code",
   "execution_count": 22,
   "metadata": {},
   "outputs": [
    {
     "data": {
      "image/png": "[encoded data removed]",
      "text/plain": [
       "<Figure size 432x288 with 1 Axes>"
      ]
     },
     "metadata": {},
     "output_type": "display_data"
    }
   ],
   "source": [
    "from sklearn.linear_model import Ridge #正則化項付き最小二乗法を行うためのライブラリ\n",
    "from sklearn.preprocessing import PolynomialFeatures\n",
    "from sklearn.pipeline import make_pipeline\n",
    "\n",
    "y = df_consume_scaled[\"consume\"].to_numpy()\n",
    "X = df_consume_scaled[[\"temp_outside\", \"rain\"]].to_numpy()\n",
    "\n",
    "degree = 9\n",
    "alphas = [rcv.alpha_] # 上記RidgeCVにて求めたalpha(数式ではλ)の値を指定する\n",
    "for alpha in zip(alphas):\n",
    "    est = make_pipeline(PolynomialFeatures(degree), Ridge(alpha=alpha))\n",
    "    est.fit(X, y)\n",
    "\n",
    "    y_pred = est.predict(X)\n",
    "\n",
    "    # 線形回帰の残差(実在値と予測値の差)を表示する\n",
    "    pd.Series(y - y_pred).hist(bins=50);\n",
    "\n",
    "mean_errors_day2(\"(標準化+)Ridge\", y, y_pred)"
   ]
  },
  {
   "cell_type": "markdown",
   "metadata": {},
   "source": [
    "##### 10. [Day2] ラッソ回帰の実行と精度評価指標値の取得\n",
    "* temp_outsite, rainを説明変数としたラッソ回帰を実行する\n",
    "* 交差検証(LassoCV)を使用してalpha(数式ではλ)パラメータのチューニングを実施する"
   ]
  },
  {
   "cell_type": "code",
   "execution_count": 23,
   "metadata": {},
   "outputs": [
    {
     "name": "stdout",
     "output_type": "stream",
     "text": [
      "LassoCVによる最適なラムダ:  0.0003208105881460973\n"
     ]
    }
   ],
   "source": [
    "from sklearn.linear_model import LassoCV\n",
    "\n",
    "y = df_consume_scaled[\"consume\"].to_numpy()\n",
    "X = df_consume_scaled[[\"temp_outside\", \"rain\"]].to_numpy()\n",
    "\n",
    "lassocv = LassoCV()\n",
    "lassocv.fit(X, y)\n",
    "\n",
    "print(\"LassoCVによる最適なラムダ: \", lassocv.alpha_)"
   ]
  },
  {
   "cell_type": "code",
   "execution_count": 24,
   "metadata": {},
   "outputs": [
    {
     "data": {
      "image/png": "[encoded data removed]",
      "text/plain": [
       "<Figure size 432x288 with 1 Axes>"
      ]
     },
     "metadata": {},
     "output_type": "display_data"
    }
   ],
   "source": [
    "from sklearn.linear_model import Lasso, ElasticNet #正則化項付き最小二乗法を行うためのライブラリ\n",
    "\n",
    "y = df_consume_scaled[\"consume\"].to_numpy()\n",
    "X = df_consume_scaled[[\"temp_outside\", \"rain\"]].to_numpy()\n",
    "\n",
    "degree = 9\n",
    "alphas = [lassocv.alpha_] # 上記LassoCVにて求めたalpha(数式ではλ)の値を指定する\n",
    "for alpha in zip(alphas):\n",
    "    est = make_pipeline(PolynomialFeatures(degree), Lasso(alpha=alpha))\n",
    "    est.fit(X, y)\n",
    "\n",
    "    y_pred = est.predict(X)\n",
    "\n",
    "    # 線形回帰の残差(実在値と予測値の差)を表示する\n",
    "    pd.Series(y - y_pred).hist(bins=50);\n",
    "\n",
    "mean_errors_day2(\"(標準化+)LASSO\", y, y_pred)"
   ]
  },
  {
   "cell_type": "markdown",
   "metadata": {},
   "source": [
    "#### 11. [Day2] 精度評価指標値を表示する\n",
    "* Day1とDay2のMAEを比較する\n",
    "* Day2の説明変数はDay1で一番MAEが低かったtemp_outside,rainで固定している"
   ]
  },
  {
   "cell_type": "code",
   "execution_count": 25,
   "metadata": {},
   "outputs": [
    {
     "data": {
      "text/html": [
       "<div>\n",
       "<style scoped>\n",
       "    .dataframe tbody tr th:only-of-type {\n",
       "        vertical-align: middle;\n",
       "    }\n",
       "\n",
       "    .dataframe tbody tr th {\n",
       "        vertical-align: top;\n",
       "    }\n",
       "\n",
       "    .dataframe thead th {\n",
       "        text-align: right;\n",
       "    }\n",
       "</style>\n",
       "<table border=\"1\" class=\"dataframe\">\n",
       "  <thead>\n",
       "    <tr style=\"text-align: right;\">\n",
       "      <th></th>\n",
       "      <th>説明変数</th>\n",
       "      <th>MSE</th>\n",
       "      <th>MAE</th>\n",
       "      <th>RMSE</th>\n",
       "      <th>RMSE / MAE</th>\n",
       "    </tr>\n",
       "  </thead>\n",
       "  <tbody>\n",
       "    <tr>\n",
       "      <th>0</th>\n",
       "      <td>\"temp_outside\", \"rain\", \"speed\"</td>\n",
       "      <td>0.8619</td>\n",
       "      <td>0.6188</td>\n",
       "      <td>0.9284</td>\n",
       "      <td>1.5002</td>\n",
       "    </tr>\n",
       "    <tr>\n",
       "      <th>1</th>\n",
       "      <td>\"temp_outside\", \"rain\"</td>\n",
       "      <td>0.9160</td>\n",
       "      <td>0.6109</td>\n",
       "      <td>0.9571</td>\n",
       "      <td>1.5666</td>\n",
       "    </tr>\n",
       "    <tr>\n",
       "      <th>2</th>\n",
       "      <td>\"temp_outside\", \"speed\"</td>\n",
       "      <td>0.9022</td>\n",
       "      <td>0.6332</td>\n",
       "      <td>0.9498</td>\n",
       "      <td>1.5001</td>\n",
       "    </tr>\n",
       "    <tr>\n",
       "      <th>3</th>\n",
       "      <td>temp_outside</td>\n",
       "      <td>0.9551</td>\n",
       "      <td>0.6271</td>\n",
       "      <td>0.9773</td>\n",
       "      <td>1.5585</td>\n",
       "    </tr>\n",
       "  </tbody>\n",
       "</table>\n",
       "</div>"
      ],
      "text/plain": [
       "                              説明変数     MSE     MAE    RMSE  RMSE / MAE\n",
       "0  \"temp_outside\", \"rain\", \"speed\"  0.8619  0.6188  0.9284      1.5002\n",
       "1           \"temp_outside\", \"rain\"  0.9160  0.6109  0.9571      1.5666\n",
       "2          \"temp_outside\", \"speed\"  0.9022  0.6332  0.9498      1.5001\n",
       "3                     temp_outside  0.9551  0.6271  0.9773      1.5585"
      ]
     },
     "metadata": {},
     "output_type": "display_data"
    },
    {
     "data": {
      "text/html": [
       "<div>\n",
       "<style scoped>\n",
       "    .dataframe tbody tr th:only-of-type {\n",
       "        vertical-align: middle;\n",
       "    }\n",
       "\n",
       "    .dataframe tbody tr th {\n",
       "        vertical-align: top;\n",
       "    }\n",
       "\n",
       "    .dataframe thead th {\n",
       "        text-align: right;\n",
       "    }\n",
       "</style>\n",
       "<table border=\"1\" class=\"dataframe\">\n",
       "  <thead>\n",
       "    <tr style=\"text-align: right;\">\n",
       "      <th></th>\n",
       "      <th>検証手法</th>\n",
       "      <th>MAE</th>\n",
       "    </tr>\n",
       "  </thead>\n",
       "  <tbody>\n",
       "    <tr>\n",
       "      <th>0</th>\n",
       "      <td>標準化</td>\n",
       "      <td>0.5921</td>\n",
       "    </tr>\n",
       "    <tr>\n",
       "      <th>1</th>\n",
       "      <td>(標準化+)交差検証</td>\n",
       "      <td>0.5992</td>\n",
       "    </tr>\n",
       "    <tr>\n",
       "      <th>2</th>\n",
       "      <td>(標準化+)Ridge</td>\n",
       "      <td>0.5757</td>\n",
       "    </tr>\n",
       "    <tr>\n",
       "      <th>3</th>\n",
       "      <td>(標準化+)LASSO</td>\n",
       "      <td>0.5785</td>\n",
       "    </tr>\n",
       "  </tbody>\n",
       "</table>\n",
       "</div>"
      ],
      "text/plain": [
       "          検証手法     MAE\n",
       "0          標準化  0.5921\n",
       "1   (標準化+)交差検証  0.5992\n",
       "2  (標準化+)Ridge  0.5757\n",
       "3  (標準化+)LASSO  0.5785"
      ]
     },
     "metadata": {},
     "output_type": "display_data"
    }
   ],
   "source": [
    "display(df_mean_error_day1)\n",
    "display(df_mean_error_day2)"
   ]
  },
  {
   "cell_type": "markdown",
   "metadata": {},
   "source": [
    "#### 11.1. [Day2] 精度評価指標値を評価する\n",
    "* MAEの値が一番低いRidge回帰が検証手法として一番精度が高いと考察される"
   ]
  },
  {
   "cell_type": "markdown",
   "metadata": {},
   "source": [
    "#### 12. [Day3] ステップワイズ法による特徴選択"
   ]
  },
  {
   "cell_type": "code",
   "execution_count": 26,
   "metadata": {},
   "outputs": [],
   "source": [
    "#warnings.filterwarnings('default')\n",
    "df_mean_error_day3 = pd.DataFrame(columns=[\"検証手法\", \"MAE\"], index=[])\n",
    "\n",
    "def mean_errors_day3(str, y, y_pred):\n",
    "    global df_mean_error_day3\n",
    "    mae = mean_absolute_error(y, y_pred) # MAEを計算\n",
    "\n",
    "    # pandas.Seriesに誤差数値を設定\n",
    "    sr_mean_error = pd.Series(data=[str, r(mae,4)], index=df_mean_error_day3.columns)\n",
    "\n",
    "    df_mean_error_day3 = df_mean_error_day3.append(sr_mean_error, ignore_index=True)"
   ]
  },
  {
   "cell_type": "code",
   "execution_count": 27,
   "metadata": {},
   "outputs": [],
   "source": [
    "from sklearn.feature_selection import RFECV\n",
    "\n",
    "# estimatorにモデルをセット\n",
    "# 今回は回帰問題であるためLinearRegressionを使用\n",
    "estimator = LinearRegression(normalize=True)\n",
    "\n",
    "# RFECVは交差検証によってステップワイズ法による特徴選択を行う\n",
    "# cvにはFold（=グループ）の数，scoringには評価指標を指定する\n",
    "# 今回は回帰なのでneg_mean_absolute_errorを評価指標に指定（分類ならaccuracy）\n",
    "rfecv = RFECV(estimator, cv=10, scoring='neg_mean_absolute_error')"
   ]
  },
  {
   "cell_type": "code",
   "execution_count": 28,
   "metadata": {},
   "outputs": [
    {
     "data": {
      "text/plain": [
       "RFECV(cv=10,\n",
       "   estimator=LinearRegression(copy_X=True, fit_intercept=True, n_jobs=None, normalize=True),\n",
       "   min_features_to_select=1, n_jobs=None,\n",
       "   scoring='neg_mean_absolute_error', step=1, verbose=0)"
      ]
     },
     "execution_count": 28,
     "metadata": {},
     "output_type": "execute_result"
    }
   ],
   "source": [
    "train_label = df_consume[\"consume\"]\n",
    "train_data = df_consume.drop(\"consume\", axis=1)\n",
    "\n",
    "y = train_label.values\n",
    "X = train_data.values\n",
    "\n",
    "# fitで特徴選択を実行\n",
    "rfecv.fit(X, y)"
   ]
  },
  {
   "cell_type": "code",
   "execution_count": 29,
   "metadata": {},
   "outputs": [
    {
     "name": "stdout",
     "output_type": "stream",
     "text": [
      "Feature ranking: \n",
      "[3 2 1 1 1 1 1 1]\n"
     ]
    }
   ],
   "source": [
    "# 特徴のランキングを表示（1が最も重要な特徴）\n",
    "print('Feature ranking: \\n{}'.format(rfecv.ranking_))"
   ]
  },
  {
   "cell_type": "code",
   "execution_count": 30,
   "metadata": {},
   "outputs": [
    {
     "data": {
      "image/png": "[encoded data removed]",
      "text/plain": [
       "<Figure size 432x288 with 1 Axes>"
      ]
     },
     "metadata": {},
     "output_type": "display_data"
    }
   ],
   "source": [
    "# 特徴数とスコアの変化をプロット\n",
    "# 負のMAEが評価基準になっており，値がゼロに近いほど汎化誤差は小さい\n",
    "plt.plot(range(1, len(rfecv.grid_scores_) + 1), rfecv.grid_scores_)\n",
    "plt.show()"
   ]
  },
  {
   "cell_type": "code",
   "execution_count": 31,
   "metadata": {},
   "outputs": [
    {
     "data": {
      "text/plain": [
       "array([False, False,  True,  True,  True,  True,  True,  True])"
      ]
     },
     "execution_count": 31,
     "metadata": {},
     "output_type": "execute_result"
    }
   ],
   "source": [
    "# rfecv.support_でランキング1位以外はFalseとするindexを取得できる\n",
    "# Trueになっている特徴を使用すれば汎化誤差は最小となる\n",
    "rfecv.support_"
   ]
  },
  {
   "cell_type": "code",
   "execution_count": 32,
   "metadata": {},
   "outputs": [
    {
     "data": {
      "text/plain": [
       "array([ True,  True, False, False, False, False, False, False])"
      ]
     },
     "execution_count": 32,
     "metadata": {},
     "output_type": "execute_result"
    }
   ],
   "source": [
    "# bool型の配列に ~ をつけるとTrueとFalseを反転させることができる\n",
    "# ここでTrueになっている特徴が削除してもよい特徴\n",
    "remove_idx = ~rfecv.support_\n",
    "remove_idx"
   ]
  },
  {
   "cell_type": "code",
   "execution_count": 33,
   "metadata": {},
   "outputs": [
    {
     "data": {
      "text/plain": [
       "Index(['distance', 'speed'], dtype='object')"
      ]
     },
     "execution_count": 33,
     "metadata": {},
     "output_type": "execute_result"
    }
   ],
   "source": [
    "# 削除してもよい特徴の名前を取得する\n",
    "remove_feature = train_data.columns[remove_idx]\n",
    "remove_feature"
   ]
  },
  {
   "cell_type": "code",
   "execution_count": 34,
   "metadata": {},
   "outputs": [
    {
     "data": {
      "text/html": [
       "<div>\n",
       "<style scoped>\n",
       "    .dataframe tbody tr th:only-of-type {\n",
       "        vertical-align: middle;\n",
       "    }\n",
       "\n",
       "    .dataframe tbody tr th {\n",
       "        vertical-align: top;\n",
       "    }\n",
       "\n",
       "    .dataframe thead th {\n",
       "        text-align: right;\n",
       "    }\n",
       "</style>\n",
       "<table border=\"1\" class=\"dataframe\">\n",
       "  <thead>\n",
       "    <tr style=\"text-align: right;\">\n",
       "      <th></th>\n",
       "      <th>temp_inside</th>\n",
       "      <th>temp_outside</th>\n",
       "      <th>gas_type</th>\n",
       "      <th>AC</th>\n",
       "      <th>rain</th>\n",
       "      <th>sun</th>\n",
       "    </tr>\n",
       "  </thead>\n",
       "  <tbody>\n",
       "    <tr>\n",
       "      <th>0</th>\n",
       "      <td>21.5</td>\n",
       "      <td>12</td>\n",
       "      <td>1</td>\n",
       "      <td>0</td>\n",
       "      <td>0</td>\n",
       "      <td>0</td>\n",
       "    </tr>\n",
       "    <tr>\n",
       "      <th>1</th>\n",
       "      <td>21.5</td>\n",
       "      <td>13</td>\n",
       "      <td>1</td>\n",
       "      <td>0</td>\n",
       "      <td>0</td>\n",
       "      <td>0</td>\n",
       "    </tr>\n",
       "    <tr>\n",
       "      <th>2</th>\n",
       "      <td>21.5</td>\n",
       "      <td>15</td>\n",
       "      <td>1</td>\n",
       "      <td>0</td>\n",
       "      <td>0</td>\n",
       "      <td>0</td>\n",
       "    </tr>\n",
       "    <tr>\n",
       "      <th>3</th>\n",
       "      <td>21.5</td>\n",
       "      <td>14</td>\n",
       "      <td>1</td>\n",
       "      <td>0</td>\n",
       "      <td>0</td>\n",
       "      <td>0</td>\n",
       "    </tr>\n",
       "    <tr>\n",
       "      <th>4</th>\n",
       "      <td>21.5</td>\n",
       "      <td>15</td>\n",
       "      <td>1</td>\n",
       "      <td>0</td>\n",
       "      <td>0</td>\n",
       "      <td>0</td>\n",
       "    </tr>\n",
       "  </tbody>\n",
       "</table>\n",
       "</div>"
      ],
      "text/plain": [
       "   temp_inside  temp_outside  gas_type  AC  rain  sun\n",
       "0         21.5            12         1   0     0    0\n",
       "1         21.5            13         1   0     0    0\n",
       "2         21.5            15         1   0     0    0\n",
       "3         21.5            14         1   0     0    0\n",
       "4         21.5            15         1   0     0    0"
      ]
     },
     "execution_count": 34,
     "metadata": {},
     "output_type": "execute_result"
    }
   ],
   "source": [
    "# drop関数で特徴を削除\n",
    "selected_train_data = train_data.drop(remove_feature, axis=1)\n",
    "selected_train_data.head()"
   ]
  },
  {
   "cell_type": "code",
   "execution_count": 35,
   "metadata": {},
   "outputs": [
    {
     "name": "stdout",
     "output_type": "stream",
     "text": [
      "Fold 1\n",
      "MAE = 0.723\n",
      "\n",
      "Fold 2\n",
      "MAE = 0.727\n",
      "\n",
      "Fold 3\n",
      "MAE = 0.63\n",
      "\n",
      "Fold 4\n",
      "MAE = 0.586\n",
      "\n",
      "Fold 5\n",
      "MAE = 0.505\n",
      "\n",
      "Cross Validation MAE = 0.634\n"
     ]
    },
    {
     "data": {
      "text/plain": [
       "-0.3269632059367442"
      ]
     },
     "execution_count": 35,
     "metadata": {},
     "output_type": "execute_result"
    },
    {
     "data": {
      "image/png": "[encoded data removed]",
      "text/plain": [
       "<Figure size 432x288 with 1 Axes>"
      ]
     },
     "metadata": {},
     "output_type": "display_data"
    }
   ],
   "source": [
    "# 交差検証法を実施\n",
    "y = df_consume[\"consume\"].to_numpy()\n",
    "X = selected_train_data.to_numpy()\n",
    "\n",
    "#X = x.reshape(-1,1) # scikit-learnに入力するために整形\n",
    "n_split = 5 # グループ数を設定（今回は5分割）\n",
    "\n",
    "cross_valid_mae = 0\n",
    "split_num = 1\n",
    "\n",
    "# テスト役を交代させながら学習と評価を繰り返す\n",
    "for train_idx, test_idx in KFold(n_splits=n_split, random_state=1234).split(X, y):\n",
    "    X_train, y_train = X[train_idx], y[train_idx] #学習用データ\n",
    "    X_test, y_test = X[test_idx], y[test_idx]     #テスト用データ\n",
    "    \n",
    "    # 学習用データを使って線形回帰モデルを学習\n",
    "    regr = LinearRegression(fit_intercept=True, normalize=True)\n",
    "    regr.fit(X_train, y_train)\n",
    "\n",
    "    # テストデータに対する予測を実行\n",
    "    y_pred_test = regr.predict(X_test)\n",
    "    \n",
    "    # テストデータに対するMAEを計算\n",
    "    mae = mean_absolute_error(y_test, y_pred_test)\n",
    "    print(\"Fold %s\"%split_num)\n",
    "    print(\"MAE = %s\"%round(mae, 3))\n",
    "    print()\n",
    "    \n",
    "    cross_valid_mae += mae #後で平均を取るためにMAEを加算\n",
    "    split_num += 1\n",
    "\n",
    "# MAEの平均値を最終的な汎化誤差値とする\n",
    "final_mae = cross_valid_mae / n_split\n",
    "print(\"Cross Validation MAE = %s\"%round(final_mae, 3))\n",
    "\n",
    "sr_mean_error = pd.Series(data=[\"ステップワイズ法\", r(final_mae,4)], index=df_mean_error_day3.columns)\n",
    "df_mean_error_day3 = df_mean_error_day3.append(sr_mean_error, ignore_index=True)\n",
    "    \n",
    "# 線形回帰の残差(実在値と予測値の差)を表示する\n",
    "pd.Series(y_test - y_pred_test).hist(bins=50);\n",
    "\n",
    "r2_score(y_test, y_pred_test)"
   ]
  },
  {
   "cell_type": "markdown",
   "metadata": {},
   "source": [
    "#### 13. [Day3] LASSOによる特徴選択"
   ]
  },
  {
   "cell_type": "code",
   "execution_count": 36,
   "metadata": {},
   "outputs": [],
   "source": [
    "from sklearn.feature_selection import SelectFromModel\n",
    "\n",
    "# estimatorにモデルをセット\n",
    "# LassoCVを使って、正則化の強さは自動決定\n",
    "estimator = LassoCV(normalize=True, cv=10)\n",
    "\n",
    "# モデルの情報を使って特徴選択を行う場合は、SelectFromModelを使う\n",
    "# 今回は係数が1e-5以下である特徴を削除する\n",
    "# 係数のしきい値はthresholdで指定する\n",
    "sfm = SelectFromModel(estimator, threshold=1e-5)"
   ]
  },
  {
   "cell_type": "code",
   "execution_count": 37,
   "metadata": {},
   "outputs": [
    {
     "data": {
      "text/plain": [
       "SelectFromModel(estimator=LassoCV(alphas=None, copy_X=True, cv=10, eps=0.001, fit_intercept=True,\n",
       "    max_iter=1000, n_alphas=100, n_jobs=None, normalize=True,\n",
       "    positive=False, precompute='auto', random_state=None,\n",
       "    selection='cyclic', tol=0.0001, verbose=False),\n",
       "        max_features=None, norm_order=1, prefit=False, threshold=1e-05)"
      ]
     },
     "execution_count": 37,
     "metadata": {},
     "output_type": "execute_result"
    }
   ],
   "source": [
    "train_label = df_consume[\"consume\"]\n",
    "train_data = df_consume.drop(\"consume\", axis=1)\n",
    "\n",
    "y = train_label.values\n",
    "X = train_data.values\n",
    "\n",
    "# fitで特徴選択を実行\n",
    "sfm.fit(X, y)"
   ]
  },
  {
   "cell_type": "code",
   "execution_count": 38,
   "metadata": {},
   "outputs": [
    {
     "data": {
      "text/plain": [
       "array([False,  True,  True,  True, False,  True,  True,  True])"
      ]
     },
     "execution_count": 38,
     "metadata": {},
     "output_type": "execute_result"
    }
   ],
   "source": [
    "# get_support関数で使用する特徴のインデックスを使用\n",
    "# Trueになっている特徴が使用する特徴\n",
    "sfm.get_support()"
   ]
  },
  {
   "cell_type": "code",
   "execution_count": 39,
   "metadata": {},
   "outputs": [
    {
     "data": {
      "text/plain": [
       "Index(['distance', 'gas_type'], dtype='object')"
      ]
     },
     "execution_count": 39,
     "metadata": {},
     "output_type": "execute_result"
    }
   ],
   "source": [
    "# 削除すべき特徴の名前を取得 \n",
    "removed_idx  = ~sfm.get_support()\n",
    "train_data.columns[removed_idx]"
   ]
  },
  {
   "cell_type": "code",
   "execution_count": 40,
   "metadata": {},
   "outputs": [
    {
     "data": {
      "text/plain": [
       "array([0.        , 0.01391808, 0.02581017, 0.03709777, 0.        ,\n",
       "       0.26470984, 0.46116224, 0.05547963])"
      ]
     },
     "execution_count": 40,
     "metadata": {},
     "output_type": "execute_result"
    }
   ],
   "source": [
    "# LASSOで得た各特徴の係数の値を確認してみよう\n",
    "# 係数の絶対値を取得\n",
    "abs_coef = np.abs(sfm.estimator_.coef_)\n",
    "abs_coef"
   ]
  },
  {
   "cell_type": "code",
   "execution_count": 41,
   "metadata": {},
   "outputs": [
    {
     "data": {
      "image/png": "[encoded data removed]",
      "text/plain": [
       "<Figure size 432x288 with 1 Axes>"
      ]
     },
     "metadata": {},
     "output_type": "display_data"
    },
    {
     "data": {
      "text/html": [
       "<div>\n",
       "<style scoped>\n",
       "    .dataframe tbody tr th:only-of-type {\n",
       "        vertical-align: middle;\n",
       "    }\n",
       "\n",
       "    .dataframe tbody tr th {\n",
       "        vertical-align: top;\n",
       "    }\n",
       "\n",
       "    .dataframe thead th {\n",
       "        text-align: right;\n",
       "    }\n",
       "</style>\n",
       "<table border=\"1\" class=\"dataframe\">\n",
       "  <thead>\n",
       "    <tr style=\"text-align: right;\">\n",
       "      <th></th>\n",
       "      <th>distance</th>\n",
       "      <th>speed</th>\n",
       "      <th>temp_inside</th>\n",
       "      <th>temp_outside</th>\n",
       "      <th>gas_type</th>\n",
       "      <th>AC</th>\n",
       "      <th>rain</th>\n",
       "      <th>sun</th>\n",
       "    </tr>\n",
       "  </thead>\n",
       "  <tbody>\n",
       "    <tr>\n",
       "      <th>0</th>\n",
       "      <td>28.0</td>\n",
       "      <td>26</td>\n",
       "      <td>21.5</td>\n",
       "      <td>12</td>\n",
       "      <td>1</td>\n",
       "      <td>0</td>\n",
       "      <td>0</td>\n",
       "      <td>0</td>\n",
       "    </tr>\n",
       "    <tr>\n",
       "      <th>1</th>\n",
       "      <td>12.0</td>\n",
       "      <td>30</td>\n",
       "      <td>21.5</td>\n",
       "      <td>13</td>\n",
       "      <td>1</td>\n",
       "      <td>0</td>\n",
       "      <td>0</td>\n",
       "      <td>0</td>\n",
       "    </tr>\n",
       "    <tr>\n",
       "      <th>2</th>\n",
       "      <td>11.2</td>\n",
       "      <td>38</td>\n",
       "      <td>21.5</td>\n",
       "      <td>15</td>\n",
       "      <td>1</td>\n",
       "      <td>0</td>\n",
       "      <td>0</td>\n",
       "      <td>0</td>\n",
       "    </tr>\n",
       "    <tr>\n",
       "      <th>3</th>\n",
       "      <td>12.9</td>\n",
       "      <td>36</td>\n",
       "      <td>21.5</td>\n",
       "      <td>14</td>\n",
       "      <td>1</td>\n",
       "      <td>0</td>\n",
       "      <td>0</td>\n",
       "      <td>0</td>\n",
       "    </tr>\n",
       "    <tr>\n",
       "      <th>4</th>\n",
       "      <td>18.5</td>\n",
       "      <td>46</td>\n",
       "      <td>21.5</td>\n",
       "      <td>15</td>\n",
       "      <td>1</td>\n",
       "      <td>0</td>\n",
       "      <td>0</td>\n",
       "      <td>0</td>\n",
       "    </tr>\n",
       "  </tbody>\n",
       "</table>\n",
       "</div>"
      ],
      "text/plain": [
       "   distance  speed  temp_inside  temp_outside  gas_type  AC  rain  sun\n",
       "0      28.0     26         21.5            12         1   0     0    0\n",
       "1      12.0     30         21.5            13         1   0     0    0\n",
       "2      11.2     38         21.5            15         1   0     0    0\n",
       "3      12.9     36         21.5            14         1   0     0    0\n",
       "4      18.5     46         21.5            15         1   0     0    0"
      ]
     },
     "execution_count": 41,
     "metadata": {},
     "output_type": "execute_result"
    }
   ],
   "source": [
    "# 係数を棒グラフで表示\n",
    "plt.barh(np.arange(0, len(abs_coef)), abs_coef, tick_label=train_data.columns.values)\n",
    "plt.show()\n",
    "train_data.head()"
   ]
  },
  {
   "cell_type": "code",
   "execution_count": 42,
   "metadata": {},
   "outputs": [
    {
     "name": "stdout",
     "output_type": "stream",
     "text": [
      "Fold 1\n",
      "MAE = 0.706\n",
      "\n",
      "Fold 2\n",
      "MAE = 0.708\n",
      "\n",
      "Fold 3\n",
      "MAE = 0.629\n",
      "\n",
      "Fold 4\n",
      "MAE = 0.582\n",
      "\n",
      "Fold 5\n",
      "MAE = 0.536\n",
      "\n",
      "Cross Validation MAE = 0.632\n"
     ]
    },
    {
     "data": {
      "text/plain": [
       "-0.4217776789205343"
      ]
     },
     "execution_count": 42,
     "metadata": {},
     "output_type": "execute_result"
    },
    {
     "data": {
      "image/png": "[encoded data removed]",
      "text/plain": [
       "<Figure size 432x288 with 1 Axes>"
      ]
     },
     "metadata": {},
     "output_type": "display_data"
    }
   ],
   "source": [
    "# 交差検証法を実施\n",
    "y = df_consume[\"consume\"].to_numpy()\n",
    "#X = train_data.drop(train_data.columns[removed_idx]).to_numpy()\n",
    "X = train_data.drop(train_data.columns[removed_idx], axis=1).to_numpy()\n",
    "\n",
    "#X = x.reshape(-1,1) # scikit-learnに入力するために整形\n",
    "n_split = 5 # グループ数を設定（今回は5分割）\n",
    "\n",
    "cross_valid_mae = 0\n",
    "split_num = 1\n",
    "\n",
    "# テスト役を交代させながら学習と評価を繰り返す\n",
    "for train_idx, test_idx in KFold(n_splits=n_split, random_state=1234).split(X, y):\n",
    "    X_train, y_train = X[train_idx], y[train_idx] #学習用データ\n",
    "    X_test, y_test = X[test_idx], y[test_idx]     #テスト用データ\n",
    "    \n",
    "    # 学習用データを使って線形回帰モデルを学習\n",
    "    regr = LinearRegression(fit_intercept=True, normalize=True)\n",
    "    regr.fit(X_train, y_train)\n",
    "\n",
    "    # テストデータに対する予測を実行\n",
    "    y_pred_test = regr.predict(X_test)\n",
    "    \n",
    "    # テストデータに対するMAEを計算\n",
    "    mae = mean_absolute_error(y_test, y_pred_test)\n",
    "    print(\"Fold %s\"%split_num)\n",
    "    print(\"MAE = %s\"%round(mae, 3))\n",
    "    print()\n",
    "    \n",
    "    cross_valid_mae += mae #後で平均を取るためにMAEを加算\n",
    "    split_num += 1\n",
    "\n",
    "# MAEの平均値を最終的な汎化誤差値とする\n",
    "final_mae = cross_valid_mae / n_split\n",
    "print(\"Cross Validation MAE = %s\"%round(final_mae, 3))\n",
    "\n",
    "sr_mean_error = pd.Series(data=[\"LASSO(特徴選択あり)\", r(final_mae,4)], index=df_mean_error_day3.columns)\n",
    "df_mean_error_day3 = df_mean_error_day3.append(sr_mean_error, ignore_index=True)\n",
    "    \n",
    "# 線形回帰の残差(実在値と予測値の差)を表示する\n",
    "pd.Series(y_test - y_pred_test).hist(bins=50);\n",
    "\n",
    "r2_score(y_test, y_pred_test)"
   ]
  },
  {
   "cell_type": "markdown",
   "metadata": {},
   "source": [
    "#### 14. [Day3] Kerasによる回帰分析"
   ]
  },
  {
   "cell_type": "code",
   "execution_count": 43,
   "metadata": {},
   "outputs": [
    {
     "name": "stderr",
     "output_type": "stream",
     "text": [
      "Using TensorFlow backend.\n"
     ]
    }
   ],
   "source": [
    "from keras.models import Sequential\n",
    "from keras.layers import Input, Dense, Dropout, BatchNormalization\n",
    "from keras.wrappers.scikit_learn import KerasRegressor\n",
    "from sklearn.model_selection import cross_val_score\n",
    "from sklearn.model_selection import KFold\n",
    "from sklearn.model_selection import train_test_split\n",
    "from sklearn.preprocessing import StandardScaler\n",
    "from sklearn.pipeline import Pipeline\n",
    "from sklearn.metrics import mean_squared_error\n",
    "from sklearn.datasets import load_diabetes"
   ]
  },
  {
   "cell_type": "code",
   "execution_count": 44,
   "metadata": {},
   "outputs": [
    {
     "name": "stdout",
     "output_type": "stream",
     "text": [
      "WARNING:tensorflow:From C:\\Users\\k.sugiyama\\Anaconda3\\lib\\site-packages\\tensorflow\\python\\framework\\op_def_library.py:263: colocate_with (from tensorflow.python.framework.ops) is deprecated and will be removed in a future version.\n",
      "Instructions for updating:\n",
      "Colocations handled automatically by placer.\n",
      "_________________________________________________________________\n",
      "Layer (type)                 Output Shape              Param #   \n",
      "=================================================================\n",
      "dense_1 (Dense)              (None, 10)                70        \n",
      "_________________________________________________________________\n",
      "dense_2 (Dense)              (None, 16)                176       \n",
      "_________________________________________________________________\n",
      "dense_3 (Dense)              (None, 1)                 17        \n",
      "=================================================================\n",
      "Total params: 263\n",
      "Trainable params: 263\n",
      "Non-trainable params: 0\n",
      "_________________________________________________________________\n"
     ]
    }
   ],
   "source": [
    "# 説明変数はステップワイズ法にて導き出された temp_inside,temp_outside, gas_type, AC, rain, sun を使用する\n",
    "y = df_consume[\"consume\"].to_numpy()\n",
    "X = train_data.drop(train_data.columns[removed_idx], axis=1).to_numpy()\n",
    "\n",
    "# 回帰分析NNモデルの作成\n",
    "def reg_model():\n",
    "    model = Sequential()\n",
    "    model.add(Dense(10, input_dim=6, activation='relu'))\n",
    "    model.add(Dense(16, activation='relu'))\n",
    "    model.add(Dense(1))\n",
    "\n",
    "    # compile model\n",
    "    model.compile(loss='mean_absolute_error', optimizer='adam')\n",
    "    return model\n",
    "\n",
    "# show the model summary\n",
    "reg_model().summary()"
   ]
  },
  {
   "cell_type": "code",
   "execution_count": 45,
   "metadata": {},
   "outputs": [
    {
     "name": "stdout",
     "output_type": "stream",
     "text": [
      "WARNING:tensorflow:From C:\\Users\\k.sugiyama\\Anaconda3\\lib\\site-packages\\tensorflow\\python\\ops\\math_ops.py:3066: to_int32 (from tensorflow.python.ops.math_ops) is deprecated and will be removed in a future version.\n",
      "Instructions for updating:\n",
      "Use tf.cast instead.\n"
     ]
    }
   ],
   "source": [
    "# データを分割する（テストデータ10%に設定）\n",
    "X_train, X_test, y_train, y_test = train_test_split(X, y, test_size=0.1, random_state=0)\n",
    "\n",
    "estimator = KerasRegressor(build_fn=reg_model, epochs=100, batch_size=10, verbose=0)\n",
    "estimator.fit(X_train, y_train)\n",
    "y_pred = estimator.predict(X_test)\n",
    "\n",
    "sr_mean_error = pd.Series(data=[\"Keras NNによる回帰分析\", r(mean_absolute_error(y_test, y_pred),4)], index=df_mean_error_day3.columns)\n",
    "df_mean_error_day3 = df_mean_error_day3.append(sr_mean_error, ignore_index=True)"
   ]
  },
  {
   "cell_type": "code",
   "execution_count": 46,
   "metadata": {},
   "outputs": [
    {
     "data": {
      "text/plain": [
       "'\\n# KFoldを利用した交差検証によるモデルの実行\\nseed = 7\\nnp.random.seed(seed)\\nestimator = KerasRegressor(build_fn=reg_model, epochs=100, batch_size=10, verbose=0)\\nkfold = KFold(n_splits=10, random_state=seed)\\n\\n# show its root mean square error\\nresults = cross_val_score(estimator, X, y, scoring=\\'neg_mean_absolute_error\\', cv=kfold)\\nmae = -results.mean()\\n\\nsr_mean_error = pd.Series(data=[\"Keras+KFold+CVによる回帰分析\", r(mae,4)], index=df_mean_error_day3.columns)\\ndf_mean_error_day3 = df_mean_error_day3.append(sr_mean_error, ignore_index=True)\\n'"
      ]
     },
     "execution_count": 46,
     "metadata": {},
     "output_type": "execute_result"
    }
   ],
   "source": [
    "'''\n",
    "# KFoldを利用した交差検証によるモデルの実行\n",
    "seed = 7\n",
    "np.random.seed(seed)\n",
    "estimator = KerasRegressor(build_fn=reg_model, epochs=100, batch_size=10, verbose=0)\n",
    "kfold = KFold(n_splits=10, random_state=seed)\n",
    "\n",
    "# show its root mean square error\n",
    "results = cross_val_score(estimator, X, y, scoring='neg_mean_absolute_error', cv=kfold)\n",
    "mae = -results.mean()\n",
    "\n",
    "sr_mean_error = pd.Series(data=[\"Keras+KFold+CVによる回帰分析\", r(mae,4)], index=df_mean_error_day3.columns)\n",
    "df_mean_error_day3 = df_mean_error_day3.append(sr_mean_error, ignore_index=True)\n",
    "'''"
   ]
  },
  {
   "cell_type": "code",
   "execution_count": 47,
   "metadata": {},
   "outputs": [
    {
     "name": "stdout",
     "output_type": "stream",
     "text": [
      "WARNING:tensorflow:From C:\\Users\\k.sugiyama\\Anaconda3\\lib\\site-packages\\keras\\backend\\tensorflow_backend.py:3445: calling dropout (from tensorflow.python.ops.nn_ops) with keep_prob is deprecated and will be removed in a future version.\n",
      "Instructions for updating:\n",
      "Please use `rate` instead of `keep_prob`. Rate should be set to `rate = 1 - keep_prob`.\n",
      "_________________________________________________________________\n",
      "Layer (type)                 Output Shape              Param #   \n",
      "=================================================================\n",
      "dense_7 (Dense)              (None, 10)                70        \n",
      "_________________________________________________________________\n",
      "batch_normalization_1 (Batch (None, 10)                40        \n",
      "_________________________________________________________________\n",
      "dropout_1 (Dropout)          (None, 10)                0         \n",
      "_________________________________________________________________\n",
      "dense_8 (Dense)              (None, 256)               2816      \n",
      "_________________________________________________________________\n",
      "batch_normalization_2 (Batch (None, 256)               1024      \n",
      "_________________________________________________________________\n",
      "dropout_2 (Dropout)          (None, 256)               0         \n",
      "_________________________________________________________________\n",
      "dense_9 (Dense)              (None, 128)               32896     \n",
      "_________________________________________________________________\n",
      "batch_normalization_3 (Batch (None, 128)               512       \n",
      "_________________________________________________________________\n",
      "dropout_3 (Dropout)          (None, 128)               0         \n",
      "_________________________________________________________________\n",
      "dense_10 (Dense)             (None, 64)                8256      \n",
      "_________________________________________________________________\n",
      "batch_normalization_4 (Batch (None, 64)                256       \n",
      "_________________________________________________________________\n",
      "dropout_4 (Dropout)          (None, 64)                0         \n",
      "_________________________________________________________________\n",
      "dense_11 (Dense)             (None, 1)                 65        \n",
      "=================================================================\n",
      "Total params: 45,935\n",
      "Trainable params: 45,019\n",
      "Non-trainable params: 916\n",
      "_________________________________________________________________\n"
     ]
    }
   ],
   "source": [
    "# ディープラーニングによる回帰分析の作成\n",
    "def deep_reg_model():\n",
    "    model = Sequential()\n",
    "    model.add(Dense(10, input_dim=6, activation='relu'))\n",
    "    model.add(BatchNormalization())\n",
    "    model.add(Dropout(0.2))\n",
    "    model.add(Dense(256, activation='relu'))\n",
    "    model.add(BatchNormalization())\n",
    "    model.add(Dropout(0.2))\n",
    "    model.add(Dense(128, activation='relu'))\n",
    "    model.add(BatchNormalization())\n",
    "    model.add(Dropout(0.2))\n",
    "    model.add(Dense(64, activation='relu'))\n",
    "    model.add(BatchNormalization())\n",
    "    model.add(Dropout(0.2))\n",
    "    model.add(Dense(1))\n",
    "\n",
    "    # compile model\n",
    "    model.compile(loss='mean_absolute_error', optimizer='adam')\n",
    "    return model\n",
    "\n",
    "# show the model summary\n",
    "deep_reg_model().summary()"
   ]
  },
  {
   "cell_type": "code",
   "execution_count": 48,
   "metadata": {},
   "outputs": [
    {
     "data": {
      "text/plain": [
       "'\\n# KFoldを利用した交差検証モデルの実行\\nseed = 7\\nnp.random.seed(seed)\\nestimator = KerasRegressor(build_fn=deep_reg_model, epochs=100, batch_size=10, verbose=0)\\nkfold = KFold(n_splits=10, random_state=seed)\\n\\n# show its root mean square error\\nresults = cross_val_score(estimator, X, y, scoring=\\'neg_mean_absolute_error\\', cv=kfold)\\nmae = -results.mean()\\n\\nsr_mean_error = pd.Series(data=[\"Keras DL+KFold+CVによる回帰分析\", r(mae,4)], index=df_mean_error_day3.columns)\\ndf_mean_error_day3 = df_mean_error_day3.append(sr_mean_error, ignore_index=True)\\n'"
      ]
     },
     "execution_count": 48,
     "metadata": {},
     "output_type": "execute_result"
    }
   ],
   "source": [
    "# データ分割モデルの実行\n",
    "X_train, X_test, y_train, y_test = train_test_split(X, y, test_size=0.1, random_state=0)\n",
    "estimator = KerasRegressor(build_fn=deep_reg_model, epochs=100, batch_size=10, verbose=0)\n",
    "estimator.fit(X_train, y_train)\n",
    "y_pred = estimator.predict(X_test)\n",
    "\n",
    "sr_mean_error = pd.Series(data=[\"Keras DL+データ分割による回帰分析\", r(mean_absolute_error(y_test, y_pred),4)], index=df_mean_error_day3.columns)\n",
    "df_mean_error_day3 = df_mean_error_day3.append(sr_mean_error, ignore_index=True)\n",
    "\n",
    "'''\n",
    "# KFoldを利用した交差検証モデルの実行\n",
    "seed = 7\n",
    "np.random.seed(seed)\n",
    "estimator = KerasRegressor(build_fn=deep_reg_model, epochs=100, batch_size=10, verbose=0)\n",
    "kfold = KFold(n_splits=10, random_state=seed)\n",
    "\n",
    "# show its root mean square error\n",
    "results = cross_val_score(estimator, X, y, scoring='neg_mean_absolute_error', cv=kfold)\n",
    "mae = -results.mean()\n",
    "\n",
    "sr_mean_error = pd.Series(data=[\"Keras DL+KFold+CVによる回帰分析\", r(mae,4)], index=df_mean_error_day3.columns)\n",
    "df_mean_error_day3 = df_mean_error_day3.append(sr_mean_error, ignore_index=True)\n",
    "'''"
   ]
  },
  {
   "cell_type": "markdown",
   "metadata": {},
   "source": [
    "#### 15. [Day3] 精度評価指標値を表示する\n",
    "\n",
    "    Day1とDay2とDay3のMAEを比較する\n",
    "    Day2の説明変数はDay1で一番MAEが低かったtemp_outside,rainで固定している\n",
    "    Day3のKerasの説明変数はステップワイズ法にて導き出された temp_inside,temp_outside, gas_type, AC, rain, sun を使用している"
   ]
  },
  {
   "cell_type": "code",
   "execution_count": 49,
   "metadata": {},
   "outputs": [
    {
     "data": {
      "text/html": [
       "<div>\n",
       "<style scoped>\n",
       "    .dataframe tbody tr th:only-of-type {\n",
       "        vertical-align: middle;\n",
       "    }\n",
       "\n",
       "    .dataframe tbody tr th {\n",
       "        vertical-align: top;\n",
       "    }\n",
       "\n",
       "    .dataframe thead th {\n",
       "        text-align: right;\n",
       "    }\n",
       "</style>\n",
       "<table border=\"1\" class=\"dataframe\">\n",
       "  <thead>\n",
       "    <tr style=\"text-align: right;\">\n",
       "      <th></th>\n",
       "      <th>説明変数</th>\n",
       "      <th>MSE</th>\n",
       "      <th>MAE</th>\n",
       "      <th>RMSE</th>\n",
       "      <th>RMSE / MAE</th>\n",
       "    </tr>\n",
       "  </thead>\n",
       "  <tbody>\n",
       "    <tr>\n",
       "      <th>0</th>\n",
       "      <td>\"temp_outside\", \"rain\", \"speed\"</td>\n",
       "      <td>0.8619</td>\n",
       "      <td>0.6188</td>\n",
       "      <td>0.9284</td>\n",
       "      <td>1.5002</td>\n",
       "    </tr>\n",
       "    <tr>\n",
       "      <th>1</th>\n",
       "      <td>\"temp_outside\", \"rain\"</td>\n",
       "      <td>0.9160</td>\n",
       "      <td>0.6109</td>\n",
       "      <td>0.9571</td>\n",
       "      <td>1.5666</td>\n",
       "    </tr>\n",
       "    <tr>\n",
       "      <th>2</th>\n",
       "      <td>\"temp_outside\", \"speed\"</td>\n",
       "      <td>0.9022</td>\n",
       "      <td>0.6332</td>\n",
       "      <td>0.9498</td>\n",
       "      <td>1.5001</td>\n",
       "    </tr>\n",
       "    <tr>\n",
       "      <th>3</th>\n",
       "      <td>temp_outside</td>\n",
       "      <td>0.9551</td>\n",
       "      <td>0.6271</td>\n",
       "      <td>0.9773</td>\n",
       "      <td>1.5585</td>\n",
       "    </tr>\n",
       "  </tbody>\n",
       "</table>\n",
       "</div>"
      ],
      "text/plain": [
       "                              説明変数     MSE     MAE    RMSE  RMSE / MAE\n",
       "0  \"temp_outside\", \"rain\", \"speed\"  0.8619  0.6188  0.9284      1.5002\n",
       "1           \"temp_outside\", \"rain\"  0.9160  0.6109  0.9571      1.5666\n",
       "2          \"temp_outside\", \"speed\"  0.9022  0.6332  0.9498      1.5001\n",
       "3                     temp_outside  0.9551  0.6271  0.9773      1.5585"
      ]
     },
     "metadata": {},
     "output_type": "display_data"
    },
    {
     "data": {
      "text/html": [
       "<div>\n",
       "<style scoped>\n",
       "    .dataframe tbody tr th:only-of-type {\n",
       "        vertical-align: middle;\n",
       "    }\n",
       "\n",
       "    .dataframe tbody tr th {\n",
       "        vertical-align: top;\n",
       "    }\n",
       "\n",
       "    .dataframe thead th {\n",
       "        text-align: right;\n",
       "    }\n",
       "</style>\n",
       "<table border=\"1\" class=\"dataframe\">\n",
       "  <thead>\n",
       "    <tr style=\"text-align: right;\">\n",
       "      <th></th>\n",
       "      <th>検証手法</th>\n",
       "      <th>MAE</th>\n",
       "    </tr>\n",
       "  </thead>\n",
       "  <tbody>\n",
       "    <tr>\n",
       "      <th>0</th>\n",
       "      <td>標準化</td>\n",
       "      <td>0.5921</td>\n",
       "    </tr>\n",
       "    <tr>\n",
       "      <th>1</th>\n",
       "      <td>(標準化+)交差検証</td>\n",
       "      <td>0.5992</td>\n",
       "    </tr>\n",
       "    <tr>\n",
       "      <th>2</th>\n",
       "      <td>(標準化+)Ridge</td>\n",
       "      <td>0.5757</td>\n",
       "    </tr>\n",
       "    <tr>\n",
       "      <th>3</th>\n",
       "      <td>(標準化+)LASSO</td>\n",
       "      <td>0.5785</td>\n",
       "    </tr>\n",
       "  </tbody>\n",
       "</table>\n",
       "</div>"
      ],
      "text/plain": [
       "          検証手法     MAE\n",
       "0          標準化  0.5921\n",
       "1   (標準化+)交差検証  0.5992\n",
       "2  (標準化+)Ridge  0.5757\n",
       "3  (標準化+)LASSO  0.5785"
      ]
     },
     "metadata": {},
     "output_type": "display_data"
    },
    {
     "data": {
      "text/html": [
       "<div>\n",
       "<style scoped>\n",
       "    .dataframe tbody tr th:only-of-type {\n",
       "        vertical-align: middle;\n",
       "    }\n",
       "\n",
       "    .dataframe tbody tr th {\n",
       "        vertical-align: top;\n",
       "    }\n",
       "\n",
       "    .dataframe thead th {\n",
       "        text-align: right;\n",
       "    }\n",
       "</style>\n",
       "<table border=\"1\" class=\"dataframe\">\n",
       "  <thead>\n",
       "    <tr style=\"text-align: right;\">\n",
       "      <th></th>\n",
       "      <th>検証手法</th>\n",
       "      <th>MAE</th>\n",
       "    </tr>\n",
       "  </thead>\n",
       "  <tbody>\n",
       "    <tr>\n",
       "      <th>0</th>\n",
       "      <td>ステップワイズ法</td>\n",
       "      <td>0.6343</td>\n",
       "    </tr>\n",
       "    <tr>\n",
       "      <th>1</th>\n",
       "      <td>LASSO(特徴選択あり)</td>\n",
       "      <td>0.6322</td>\n",
       "    </tr>\n",
       "    <tr>\n",
       "      <th>2</th>\n",
       "      <td>Keras NNによる回帰分析</td>\n",
       "      <td>0.5526</td>\n",
       "    </tr>\n",
       "    <tr>\n",
       "      <th>3</th>\n",
       "      <td>Keras DL+データ分割による回帰分析</td>\n",
       "      <td>0.4440</td>\n",
       "    </tr>\n",
       "  </tbody>\n",
       "</table>\n",
       "</div>"
      ],
      "text/plain": [
       "                    検証手法     MAE\n",
       "0               ステップワイズ法  0.6343\n",
       "1          LASSO(特徴選択あり)  0.6322\n",
       "2        Keras NNによる回帰分析  0.5526\n",
       "3  Keras DL+データ分割による回帰分析  0.4440"
      ]
     },
     "metadata": {},
     "output_type": "display_data"
    }
   ],
   "source": [
    "display(df_mean_error_day1)\n",
    "display(df_mean_error_day2)\n",
    "display(df_mean_error_day3)"
   ]
  },
  {
   "cell_type": "markdown",
   "metadata": {},
   "source": [
    "##### 15.1. [Day3] 精度評価指標値を考察する\n",
    "\n",
    "    一番MAEの性能値が低いステップワイズ法で導き出された説明変数を利用しても上位の性能値を出すNN、DLの回帰分析能力の高さは流石\n",
    "    \n",
    "※特記事項<br>\n",
    "    KerasでKFoldを使うと処理が終わらなかったので原因を究明する必要がある"
   ]
  }
 ],
 "metadata": {
  "kernelspec": {
   "display_name": "Python 3",
   "language": "python",
   "name": "python3"
  },
  "language_info": {
   "codemirror_mode": {
    "name": "ipython",
    "version": 3
   },
   "file_extension": ".py",
   "mimetype": "text/x-python",
   "name": "python",
   "nbconvert_exporter": "python",
   "pygments_lexer": "ipython3",
   "version": "3.6.8"
  }
 },
 "nbformat": 4,
 "nbformat_minor": 2
}
